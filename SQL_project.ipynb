{
  "nbformat": 4,
  "nbformat_minor": 0,
  "metadata": {
    "colab": {
      "provenance": [],
      "authorship_tag": "ABX9TyMO/BAKlg9TTTKNASJlAJp2",
      "include_colab_link": true
    },
    "kernelspec": {
      "name": "python3",
      "display_name": "Python 3"
    },
    "language_info": {
      "name": "python"
    }
  },
  "cells": [
    {
      "cell_type": "markdown",
      "metadata": {
        "id": "view-in-github",
        "colab_type": "text"
      },
      "source": [
        "<a href=\"https://colab.research.google.com/github/guilhermefritz/SQL_Projects/blob/main/SQL_project.ipynb\" target=\"_parent\"><img src=\"https://colab.research.google.com/assets/colab-badge.svg\" alt=\"Open In Colab\"/></a>"
      ]
    },
    {
      "cell_type": "markdown",
      "source": [
        "### Feito por Guilherme Fritz"
      ],
      "metadata": {
        "id": "I0phtszeAID_"
      }
    },
    {
      "cell_type": "markdown",
      "source": [
        "## Usando o DuckDB para executar consultas  SQL dentro de um ambiente Python."
      ],
      "metadata": {
        "id": "sy8jgM-brrsC"
      }
    },
    {
      "cell_type": "markdown",
      "source": [
        "DuckDB-É um sistema de gerenciamento de base de dados SQL que roda no mesmo processo em que o aplicativo que utiliza o banco de dados,o que significa que não se faz necessária a criação de uma rede de comunicação entre os dois, acelerando o acesso aos dados armazenados"
      ],
      "metadata": {
        "id": "7AmjDFeHsz5O"
      }
    },
    {
      "cell_type": "markdown",
      "source": [
        "Dataset de vendas  disponivel  em https://www.kaggle.com/datasets/rohitsahoo/sales-forecasting"
      ],
      "metadata": {
        "id": "lP1J0AFNrWu4"
      }
    },
    {
      "cell_type": "markdown",
      "source": [
        "  ## **Perguntas a serem respondidas**:\n",
        "  *   1-De 2016 a 2018,quais foram  os produtos TOP1(Lideraram o ranking) em valor de vendas de cada ano?\n",
        "  *   2-Qual foi o semestre dos anos de 2017 e 2018 que obteve o maior faturamento ? Nesse determinado semestre quais foram os TOP2 produtos  em vendas?\n",
        "\n",
        "  *   3-Qual foi o Estado  campeão de faturamento ao decorrer de todos os anos ?\n",
        "  *   4-Desse  determinado estado,quais foram as TOP3 cidades campeãs de vendas ?\n",
        "  *   5-As categorias de produtos sao divididas entre quais tipos ?\n",
        "  *   6-Quanto cada categoria vendeu nos  TOP3 estados? E qual estado  foi o que faturou mais?\n",
        "  *   7-Supondo que (Tecnologia) é a categoria dominante em valor de  vendas, teve algum ano em que outra categoria a sobressaiu?\n",
        "  *   8-Da categoria de (Tecnologia) ,qual das sub-categorias se sobressaiu das demais?\n",
        "  *   9-Qual foi o tipo vencedor do ship mode(modo de envio) mais preferido pelos clientes?\n",
        "  *   10 -Qual foi o produto  que mais faturou no decorrer dos anos?\n",
        "  *   11-Veja a lista de compradores desse produto e o respectivo codigo postal de cada um .\n",
        "  *   12-Teve algum ano em que no mês de Novembro a quantidade de faturamento  foi superior que o mês de Dezembro?\n",
        "  *   13-Quais foram os TOP3 clientes que mais gastaram  na loja  ?\n",
        "\n",
        "\n",
        "\n",
        "\n"
      ],
      "metadata": {
        "id": "zBKC0FJSbITk"
      }
    },
    {
      "cell_type": "code",
      "source": [
        " pip install duckdb\n"
      ],
      "metadata": {
        "id": "c-kD7O6kbCFM",
        "colab": {
          "base_uri": "https://localhost:8080/"
        },
        "outputId": "bafe0a00-e784-4e8e-c5dc-e0729658924c"
      },
      "execution_count": 115,
      "outputs": [
        {
          "output_type": "stream",
          "name": "stdout",
          "text": [
            "Requirement already satisfied: duckdb in /usr/local/lib/python3.10/dist-packages (0.8.1)\n"
          ]
        }
      ]
    },
    {
      "cell_type": "code",
      "source": [
        "pip install pandas\n",
        "#instalando pandas"
      ],
      "metadata": {
        "id": "7VH7oeoCFT_b"
      },
      "execution_count": null,
      "outputs": []
    },
    {
      "cell_type": "code",
      "source": [
        "import pandas as pd"
      ],
      "metadata": {
        "id": "qNgNRoAuFZI1"
      },
      "execution_count": null,
      "outputs": []
    },
    {
      "cell_type": "code",
      "source": [
        "df=pd.read_csv(\"/content/train_csv\")\n",
        "#Lendo o arquivo que contém o dataset"
      ],
      "metadata": {
        "id": "Ld3c8K15FcBD"
      },
      "execution_count": 116,
      "outputs": []
    },
    {
      "cell_type": "code",
      "source": [
        "df.info()\n",
        "#Informaçoes do dataset"
      ],
      "metadata": {
        "colab": {
          "base_uri": "https://localhost:8080/"
        },
        "id": "uCKVoyyjQvPM",
        "outputId": "2f6c4509-ab65-4329-f933-abcdd5921f7a"
      },
      "execution_count": 117,
      "outputs": [
        {
          "output_type": "stream",
          "name": "stdout",
          "text": [
            "<class 'pandas.core.frame.DataFrame'>\n",
            "RangeIndex: 9800 entries, 0 to 9799\n",
            "Data columns (total 18 columns):\n",
            " #   Column         Non-Null Count  Dtype  \n",
            "---  ------         --------------  -----  \n",
            " 0   Row ID         9800 non-null   int64  \n",
            " 1   Order ID       9800 non-null   object \n",
            " 2   Order Date     9800 non-null   object \n",
            " 3   Ship Date      9800 non-null   object \n",
            " 4   Ship Mode      9800 non-null   object \n",
            " 5   Customer ID    9800 non-null   object \n",
            " 6   Customer Name  9800 non-null   object \n",
            " 7   Segment        9800 non-null   object \n",
            " 8   Country        9800 non-null   object \n",
            " 9   City           9800 non-null   object \n",
            " 10  State          9800 non-null   object \n",
            " 11  Postal Code    9789 non-null   float64\n",
            " 12  Region         9800 non-null   object \n",
            " 13  Product ID     9800 non-null   object \n",
            " 14  Category       9800 non-null   object \n",
            " 15  Sub-Category   9800 non-null   object \n",
            " 16  Product Name   9800 non-null   object \n",
            " 17  Sales          9800 non-null   float64\n",
            "dtypes: float64(2), int64(1), object(15)\n",
            "memory usage: 1.3+ MB\n"
          ]
        }
      ]
    },
    {
      "cell_type": "code",
      "source": [
        "df.head()\n",
        "#Visualizando o dataset"
      ],
      "metadata": {
        "colab": {
          "base_uri": "https://localhost:8080/",
          "height": 556
        },
        "id": "ZTGyMom9DDQE",
        "outputId": "91164f6d-6c2a-49b7-8b2d-46471fe2a054"
      },
      "execution_count": 118,
      "outputs": [
        {
          "output_type": "execute_result",
          "data": {
            "text/plain": [
              "   Row ID        Order ID  Order Date   Ship Date       Ship Mode Customer ID  \\\n",
              "0       1  CA-2017-152156  2017-11-08  11/11/2017    Second Class    CG-12520   \n",
              "1       2  CA-2017-152156  2017-11-08  11/11/2017    Second Class    CG-12520   \n",
              "2       3  CA-2017-138688  2017-06-12  16/06/2017    Second Class    DV-13045   \n",
              "3       4  US-2016-108966  2016-10-11  18/10/2016  Standard Class    SO-20335   \n",
              "4       5  US-2016-108966  2016-10-11  18/10/2016  Standard Class    SO-20335   \n",
              "\n",
              "     Customer Name    Segment        Country             City       State  \\\n",
              "0      Claire Gute   Consumer  United States        Henderson    Kentucky   \n",
              "1      Claire Gute   Consumer  United States        Henderson    Kentucky   \n",
              "2  Darrin Van Huff  Corporate  United States      Los Angeles  California   \n",
              "3   Sean O'Donnell   Consumer  United States  Fort Lauderdale     Florida   \n",
              "4   Sean O'Donnell   Consumer  United States  Fort Lauderdale     Florida   \n",
              "\n",
              "   Postal Code Region       Product ID         Category Sub-Category  \\\n",
              "0      42420.0  South  FUR-BO-10001798        Furniture    Bookcases   \n",
              "1      42420.0  South  FUR-CH-10000454        Furniture       Chairs   \n",
              "2      90036.0   West  OFF-LA-10000240  Office Supplies       Labels   \n",
              "3      33311.0  South  FUR-TA-10000577        Furniture       Tables   \n",
              "4      33311.0  South  OFF-ST-10000760  Office Supplies      Storage   \n",
              "\n",
              "                                        Product Name     Sales  \n",
              "0                  Bush Somerset Collection Bookcase  261.9600  \n",
              "1  Hon Deluxe Fabric Upholstered Stacking Chairs,...  731.9400  \n",
              "2  Self-Adhesive Address Labels for Typewriters b...   14.6200  \n",
              "3      Bretford CR4500 Series Slim Rectangular Table  957.5775  \n",
              "4                     Eldon Fold 'N Roll Cart System   22.3680  "
            ],
            "text/html": [
              "\n",
              "  <div id=\"df-a13b143b-0819-4327-a95f-e17bc428ef83\" class=\"colab-df-container\">\n",
              "    <div>\n",
              "<style scoped>\n",
              "    .dataframe tbody tr th:only-of-type {\n",
              "        vertical-align: middle;\n",
              "    }\n",
              "\n",
              "    .dataframe tbody tr th {\n",
              "        vertical-align: top;\n",
              "    }\n",
              "\n",
              "    .dataframe thead th {\n",
              "        text-align: right;\n",
              "    }\n",
              "</style>\n",
              "<table border=\"1\" class=\"dataframe\">\n",
              "  <thead>\n",
              "    <tr style=\"text-align: right;\">\n",
              "      <th></th>\n",
              "      <th>Row ID</th>\n",
              "      <th>Order ID</th>\n",
              "      <th>Order Date</th>\n",
              "      <th>Ship Date</th>\n",
              "      <th>Ship Mode</th>\n",
              "      <th>Customer ID</th>\n",
              "      <th>Customer Name</th>\n",
              "      <th>Segment</th>\n",
              "      <th>Country</th>\n",
              "      <th>City</th>\n",
              "      <th>State</th>\n",
              "      <th>Postal Code</th>\n",
              "      <th>Region</th>\n",
              "      <th>Product ID</th>\n",
              "      <th>Category</th>\n",
              "      <th>Sub-Category</th>\n",
              "      <th>Product Name</th>\n",
              "      <th>Sales</th>\n",
              "    </tr>\n",
              "  </thead>\n",
              "  <tbody>\n",
              "    <tr>\n",
              "      <th>0</th>\n",
              "      <td>1</td>\n",
              "      <td>CA-2017-152156</td>\n",
              "      <td>2017-11-08</td>\n",
              "      <td>11/11/2017</td>\n",
              "      <td>Second Class</td>\n",
              "      <td>CG-12520</td>\n",
              "      <td>Claire Gute</td>\n",
              "      <td>Consumer</td>\n",
              "      <td>United States</td>\n",
              "      <td>Henderson</td>\n",
              "      <td>Kentucky</td>\n",
              "      <td>42420.0</td>\n",
              "      <td>South</td>\n",
              "      <td>FUR-BO-10001798</td>\n",
              "      <td>Furniture</td>\n",
              "      <td>Bookcases</td>\n",
              "      <td>Bush Somerset Collection Bookcase</td>\n",
              "      <td>261.9600</td>\n",
              "    </tr>\n",
              "    <tr>\n",
              "      <th>1</th>\n",
              "      <td>2</td>\n",
              "      <td>CA-2017-152156</td>\n",
              "      <td>2017-11-08</td>\n",
              "      <td>11/11/2017</td>\n",
              "      <td>Second Class</td>\n",
              "      <td>CG-12520</td>\n",
              "      <td>Claire Gute</td>\n",
              "      <td>Consumer</td>\n",
              "      <td>United States</td>\n",
              "      <td>Henderson</td>\n",
              "      <td>Kentucky</td>\n",
              "      <td>42420.0</td>\n",
              "      <td>South</td>\n",
              "      <td>FUR-CH-10000454</td>\n",
              "      <td>Furniture</td>\n",
              "      <td>Chairs</td>\n",
              "      <td>Hon Deluxe Fabric Upholstered Stacking Chairs,...</td>\n",
              "      <td>731.9400</td>\n",
              "    </tr>\n",
              "    <tr>\n",
              "      <th>2</th>\n",
              "      <td>3</td>\n",
              "      <td>CA-2017-138688</td>\n",
              "      <td>2017-06-12</td>\n",
              "      <td>16/06/2017</td>\n",
              "      <td>Second Class</td>\n",
              "      <td>DV-13045</td>\n",
              "      <td>Darrin Van Huff</td>\n",
              "      <td>Corporate</td>\n",
              "      <td>United States</td>\n",
              "      <td>Los Angeles</td>\n",
              "      <td>California</td>\n",
              "      <td>90036.0</td>\n",
              "      <td>West</td>\n",
              "      <td>OFF-LA-10000240</td>\n",
              "      <td>Office Supplies</td>\n",
              "      <td>Labels</td>\n",
              "      <td>Self-Adhesive Address Labels for Typewriters b...</td>\n",
              "      <td>14.6200</td>\n",
              "    </tr>\n",
              "    <tr>\n",
              "      <th>3</th>\n",
              "      <td>4</td>\n",
              "      <td>US-2016-108966</td>\n",
              "      <td>2016-10-11</td>\n",
              "      <td>18/10/2016</td>\n",
              "      <td>Standard Class</td>\n",
              "      <td>SO-20335</td>\n",
              "      <td>Sean O'Donnell</td>\n",
              "      <td>Consumer</td>\n",
              "      <td>United States</td>\n",
              "      <td>Fort Lauderdale</td>\n",
              "      <td>Florida</td>\n",
              "      <td>33311.0</td>\n",
              "      <td>South</td>\n",
              "      <td>FUR-TA-10000577</td>\n",
              "      <td>Furniture</td>\n",
              "      <td>Tables</td>\n",
              "      <td>Bretford CR4500 Series Slim Rectangular Table</td>\n",
              "      <td>957.5775</td>\n",
              "    </tr>\n",
              "    <tr>\n",
              "      <th>4</th>\n",
              "      <td>5</td>\n",
              "      <td>US-2016-108966</td>\n",
              "      <td>2016-10-11</td>\n",
              "      <td>18/10/2016</td>\n",
              "      <td>Standard Class</td>\n",
              "      <td>SO-20335</td>\n",
              "      <td>Sean O'Donnell</td>\n",
              "      <td>Consumer</td>\n",
              "      <td>United States</td>\n",
              "      <td>Fort Lauderdale</td>\n",
              "      <td>Florida</td>\n",
              "      <td>33311.0</td>\n",
              "      <td>South</td>\n",
              "      <td>OFF-ST-10000760</td>\n",
              "      <td>Office Supplies</td>\n",
              "      <td>Storage</td>\n",
              "      <td>Eldon Fold 'N Roll Cart System</td>\n",
              "      <td>22.3680</td>\n",
              "    </tr>\n",
              "  </tbody>\n",
              "</table>\n",
              "</div>\n",
              "    <div class=\"colab-df-buttons\">\n",
              "\n",
              "  <div class=\"colab-df-container\">\n",
              "    <button class=\"colab-df-convert\" onclick=\"convertToInteractive('df-a13b143b-0819-4327-a95f-e17bc428ef83')\"\n",
              "            title=\"Convert this dataframe to an interactive table.\"\n",
              "            style=\"display:none;\">\n",
              "\n",
              "  <svg xmlns=\"http://www.w3.org/2000/svg\" height=\"24px\" viewBox=\"0 -960 960 960\">\n",
              "    <path d=\"M120-120v-720h720v720H120Zm60-500h600v-160H180v160Zm220 220h160v-160H400v160Zm0 220h160v-160H400v160ZM180-400h160v-160H180v160Zm440 0h160v-160H620v160ZM180-180h160v-160H180v160Zm440 0h160v-160H620v160Z\"/>\n",
              "  </svg>\n",
              "    </button>\n",
              "\n",
              "  <style>\n",
              "    .colab-df-container {\n",
              "      display:flex;\n",
              "      gap: 12px;\n",
              "    }\n",
              "\n",
              "    .colab-df-convert {\n",
              "      background-color: #E8F0FE;\n",
              "      border: none;\n",
              "      border-radius: 50%;\n",
              "      cursor: pointer;\n",
              "      display: none;\n",
              "      fill: #1967D2;\n",
              "      height: 32px;\n",
              "      padding: 0 0 0 0;\n",
              "      width: 32px;\n",
              "    }\n",
              "\n",
              "    .colab-df-convert:hover {\n",
              "      background-color: #E2EBFA;\n",
              "      box-shadow: 0px 1px 2px rgba(60, 64, 67, 0.3), 0px 1px 3px 1px rgba(60, 64, 67, 0.15);\n",
              "      fill: #174EA6;\n",
              "    }\n",
              "\n",
              "    .colab-df-buttons div {\n",
              "      margin-bottom: 4px;\n",
              "    }\n",
              "\n",
              "    [theme=dark] .colab-df-convert {\n",
              "      background-color: #3B4455;\n",
              "      fill: #D2E3FC;\n",
              "    }\n",
              "\n",
              "    [theme=dark] .colab-df-convert:hover {\n",
              "      background-color: #434B5C;\n",
              "      box-shadow: 0px 1px 3px 1px rgba(0, 0, 0, 0.15);\n",
              "      filter: drop-shadow(0px 1px 2px rgba(0, 0, 0, 0.3));\n",
              "      fill: #FFFFFF;\n",
              "    }\n",
              "  </style>\n",
              "\n",
              "    <script>\n",
              "      const buttonEl =\n",
              "        document.querySelector('#df-a13b143b-0819-4327-a95f-e17bc428ef83 button.colab-df-convert');\n",
              "      buttonEl.style.display =\n",
              "        google.colab.kernel.accessAllowed ? 'block' : 'none';\n",
              "\n",
              "      async function convertToInteractive(key) {\n",
              "        const element = document.querySelector('#df-a13b143b-0819-4327-a95f-e17bc428ef83');\n",
              "        const dataTable =\n",
              "          await google.colab.kernel.invokeFunction('convertToInteractive',\n",
              "                                                    [key], {});\n",
              "        if (!dataTable) return;\n",
              "\n",
              "        const docLinkHtml = 'Like what you see? Visit the ' +\n",
              "          '<a target=\"_blank\" href=https://colab.research.google.com/notebooks/data_table.ipynb>data table notebook</a>'\n",
              "          + ' to learn more about interactive tables.';\n",
              "        element.innerHTML = '';\n",
              "        dataTable['output_type'] = 'display_data';\n",
              "        await google.colab.output.renderOutput(dataTable, element);\n",
              "        const docLink = document.createElement('div');\n",
              "        docLink.innerHTML = docLinkHtml;\n",
              "        element.appendChild(docLink);\n",
              "      }\n",
              "    </script>\n",
              "  </div>\n",
              "\n",
              "\n",
              "<div id=\"df-0204b0eb-2ed6-45d5-8c06-e6a5689cac95\">\n",
              "  <button class=\"colab-df-quickchart\" onclick=\"quickchart('df-0204b0eb-2ed6-45d5-8c06-e6a5689cac95')\"\n",
              "            title=\"Suggest charts.\"\n",
              "            style=\"display:none;\">\n",
              "\n",
              "<svg xmlns=\"http://www.w3.org/2000/svg\" height=\"24px\"viewBox=\"0 0 24 24\"\n",
              "     width=\"24px\">\n",
              "    <g>\n",
              "        <path d=\"M19 3H5c-1.1 0-2 .9-2 2v14c0 1.1.9 2 2 2h14c1.1 0 2-.9 2-2V5c0-1.1-.9-2-2-2zM9 17H7v-7h2v7zm4 0h-2V7h2v10zm4 0h-2v-4h2v4z\"/>\n",
              "    </g>\n",
              "</svg>\n",
              "  </button>\n",
              "\n",
              "<style>\n",
              "  .colab-df-quickchart {\n",
              "      --bg-color: #E8F0FE;\n",
              "      --fill-color: #1967D2;\n",
              "      --hover-bg-color: #E2EBFA;\n",
              "      --hover-fill-color: #174EA6;\n",
              "      --disabled-fill-color: #AAA;\n",
              "      --disabled-bg-color: #DDD;\n",
              "  }\n",
              "\n",
              "  [theme=dark] .colab-df-quickchart {\n",
              "      --bg-color: #3B4455;\n",
              "      --fill-color: #D2E3FC;\n",
              "      --hover-bg-color: #434B5C;\n",
              "      --hover-fill-color: #FFFFFF;\n",
              "      --disabled-bg-color: #3B4455;\n",
              "      --disabled-fill-color: #666;\n",
              "  }\n",
              "\n",
              "  .colab-df-quickchart {\n",
              "    background-color: var(--bg-color);\n",
              "    border: none;\n",
              "    border-radius: 50%;\n",
              "    cursor: pointer;\n",
              "    display: none;\n",
              "    fill: var(--fill-color);\n",
              "    height: 32px;\n",
              "    padding: 0;\n",
              "    width: 32px;\n",
              "  }\n",
              "\n",
              "  .colab-df-quickchart:hover {\n",
              "    background-color: var(--hover-bg-color);\n",
              "    box-shadow: 0 1px 2px rgba(60, 64, 67, 0.3), 0 1px 3px 1px rgba(60, 64, 67, 0.15);\n",
              "    fill: var(--button-hover-fill-color);\n",
              "  }\n",
              "\n",
              "  .colab-df-quickchart-complete:disabled,\n",
              "  .colab-df-quickchart-complete:disabled:hover {\n",
              "    background-color: var(--disabled-bg-color);\n",
              "    fill: var(--disabled-fill-color);\n",
              "    box-shadow: none;\n",
              "  }\n",
              "\n",
              "  .colab-df-spinner {\n",
              "    border: 2px solid var(--fill-color);\n",
              "    border-color: transparent;\n",
              "    border-bottom-color: var(--fill-color);\n",
              "    animation:\n",
              "      spin 1s steps(1) infinite;\n",
              "  }\n",
              "\n",
              "  @keyframes spin {\n",
              "    0% {\n",
              "      border-color: transparent;\n",
              "      border-bottom-color: var(--fill-color);\n",
              "      border-left-color: var(--fill-color);\n",
              "    }\n",
              "    20% {\n",
              "      border-color: transparent;\n",
              "      border-left-color: var(--fill-color);\n",
              "      border-top-color: var(--fill-color);\n",
              "    }\n",
              "    30% {\n",
              "      border-color: transparent;\n",
              "      border-left-color: var(--fill-color);\n",
              "      border-top-color: var(--fill-color);\n",
              "      border-right-color: var(--fill-color);\n",
              "    }\n",
              "    40% {\n",
              "      border-color: transparent;\n",
              "      border-right-color: var(--fill-color);\n",
              "      border-top-color: var(--fill-color);\n",
              "    }\n",
              "    60% {\n",
              "      border-color: transparent;\n",
              "      border-right-color: var(--fill-color);\n",
              "    }\n",
              "    80% {\n",
              "      border-color: transparent;\n",
              "      border-right-color: var(--fill-color);\n",
              "      border-bottom-color: var(--fill-color);\n",
              "    }\n",
              "    90% {\n",
              "      border-color: transparent;\n",
              "      border-bottom-color: var(--fill-color);\n",
              "    }\n",
              "  }\n",
              "</style>\n",
              "\n",
              "  <script>\n",
              "    async function quickchart(key) {\n",
              "      const quickchartButtonEl =\n",
              "        document.querySelector('#' + key + ' button');\n",
              "      quickchartButtonEl.disabled = true;  // To prevent multiple clicks.\n",
              "      quickchartButtonEl.classList.add('colab-df-spinner');\n",
              "      try {\n",
              "        const charts = await google.colab.kernel.invokeFunction(\n",
              "            'suggestCharts', [key], {});\n",
              "      } catch (error) {\n",
              "        console.error('Error during call to suggestCharts:', error);\n",
              "      }\n",
              "      quickchartButtonEl.classList.remove('colab-df-spinner');\n",
              "      quickchartButtonEl.classList.add('colab-df-quickchart-complete');\n",
              "    }\n",
              "    (() => {\n",
              "      let quickchartButtonEl =\n",
              "        document.querySelector('#df-0204b0eb-2ed6-45d5-8c06-e6a5689cac95 button');\n",
              "      quickchartButtonEl.style.display =\n",
              "        google.colab.kernel.accessAllowed ? 'block' : 'none';\n",
              "    })();\n",
              "  </script>\n",
              "</div>\n",
              "    </div>\n",
              "  </div>\n"
            ]
          },
          "metadata": {},
          "execution_count": 118
        }
      ]
    },
    {
      "cell_type": "code",
      "source": [
        "import duckdb"
      ],
      "metadata": {
        "id": "5ZuxtDHHFs5z"
      },
      "execution_count": null,
      "outputs": []
    },
    {
      "cell_type": "code",
      "source": [
        "#Estabelecendo conexão com o duck db\n",
        "# 'clientes' agora refere-se a 'df'(dataset)\n",
        "conexao = duckdb.connect(database=\":memory:\", read_only=False)\n",
        "conexao.register(\"clientes\", df)\n"
      ],
      "metadata": {
        "colab": {
          "base_uri": "https://localhost:8080/"
        },
        "id": "9wTDPyi4Fyd6",
        "outputId": "51958163-3381-41e7-d073-40d53dfd6d7c"
      },
      "execution_count": 119,
      "outputs": [
        {
          "output_type": "execute_result",
          "data": {
            "text/plain": [
              "<duckdb.DuckDBPyConnection at 0x7a92a7fb2db0>"
            ]
          },
          "metadata": {},
          "execution_count": 119
        }
      ]
    },
    {
      "cell_type": "markdown",
      "source": [
        "Para extrair a data no Tipo 'Date' o Duck db requer que esteja nesse formato (YYYY-MM-DD) como o formato original do dataset estava (DD/MM/YYYY) foi necessário alterar."
      ],
      "metadata": {
        "id": "hK6PCF14dqzk"
      }
    },
    {
      "cell_type": "code",
      "source": [
        "\n",
        "df['Order Date'] = pd.to_datetime(df['Order Date'], format='%d/%m/%Y')\n",
        "\n",
        "# Salve os dados atualizados em um novo arquivo CSV\n",
        "df.to_csv('train_alterado', index=False)"
      ],
      "metadata": {
        "id": "d9PLwGB45Kr0"
      },
      "execution_count": null,
      "outputs": []
    },
    {
      "cell_type": "markdown",
      "source": [
        "## **1º pergunta:**"
      ],
      "metadata": {
        "id": "6yoBdR-D9wDg"
      }
    },
    {
      "cell_type": "code",
      "source": [
        "query_1 ='''\n",
        "SELECT\n",
        " EXTRACT(YEAR FROM CAST(\"Order Date\" AS DATE)) AS Ano,\n",
        " \"Product Name\" AS ProdutoMaisVendido,\n",
        " SUM(Sales) AS ValorTotal\n",
        "FROM clientes\n",
        "WHERE EXTRACT(YEAR FROM CAST(\"Order Date\" AS DATE)) = 2016\n",
        "GROUP BY Ano, \"Product Name\"\n",
        "ORDER BY Ano DESC, ValorTotal DESC LIMIT 1\n",
        ";\n",
        "\n",
        "\n",
        "\n",
        "\n",
        "\n",
        "'''\n",
        "resultado_1 = conexao.execute(query_1).df()\n",
        "print(resultado_1)"
      ],
      "metadata": {
        "colab": {
          "base_uri": "https://localhost:8080/"
        },
        "id": "GFxftDqnoaiA",
        "outputId": "ef7711f6-1ef7-4336-daad-b3a882fe36e1"
      },
      "execution_count": 159,
      "outputs": [
        {
          "output_type": "stream",
          "name": "stdout",
          "text": [
            "    Ano                                 ProdutoMaisVendido  ValorTotal\n",
            "0  2016  Fellowes PB500 Electric Punch Plastic Comb Bin...   15760.276\n"
          ]
        }
      ]
    },
    {
      "cell_type": "markdown",
      "source": [
        "2016 : 🥇'Fellowes PB500 Electric...'"
      ],
      "metadata": {
        "id": "RvtmMqJb3Y2l"
      }
    },
    {
      "cell_type": "code",
      "source": [
        "query_2 ='''\n",
        "SELECT\n",
        " EXTRACT(YEAR FROM CAST(\"Order Date\" AS DATE)) AS Ano,\n",
        " \"Product Name\" AS ProdutoMaisVendido,\n",
        " SUM(Sales) AS ValorTotal\n",
        "FROM clientes\n",
        "WHERE EXTRACT(YEAR FROM CAST(\"Order Date\" AS DATE)) = 2017\n",
        "GROUP BY Ano, \"Product Name\"\n",
        "ORDER BY Ano DESC, ValorTotal DESC LIMIT 1\n",
        "\n",
        "\n",
        "\n",
        "\n",
        "\n",
        "\n",
        "'''\n",
        "resultado_2 = conexao.execute(query_2).df()\n",
        "print(resultado_2)"
      ],
      "metadata": {
        "colab": {
          "base_uri": "https://localhost:8080/"
        },
        "id": "7fp_r7lSBASi",
        "outputId": "de9f9d8b-7e6a-47d0-b969-29ce22fdb57e"
      },
      "execution_count": 161,
      "outputs": [
        {
          "output_type": "stream",
          "name": "stdout",
          "text": [
            "    Ano                     ProdutoMaisVendido  ValorTotal\n",
            "0  2017  Canon imageCLASS 2200 Advanced Copier   25899.926\n"
          ]
        }
      ]
    },
    {
      "cell_type": "markdown",
      "source": [
        "2017:*🥇* 'Canon imageCLASS 2200 Advanced **Copier** '"
      ],
      "metadata": {
        "id": "Len8QlHf3mZ3"
      }
    },
    {
      "cell_type": "code",
      "source": [
        "query_3 ='''\n",
        "SELECT\n",
        " EXTRACT(YEAR FROM CAST(\"Order Date\" AS DATE)) AS Ano,\n",
        " \"Product Name\" AS ProdutoMaisVendido,\n",
        " SUM(Sales) AS ValorTotal\n",
        "FROM clientes\n",
        "WHERE EXTRACT(YEAR FROM CAST(\"Order Date\" AS DATE)) = 2018\n",
        "GROUP BY Ano, \"Product Name\"\n",
        "ORDER BY Ano DESC, ValorTotal DESC LIMIT 1\n",
        "\n",
        "\n",
        "\n",
        "\n",
        "\n",
        "\n",
        "'''\n",
        "resultado_3 = conexao.execute(query_3).df()\n",
        "print(resultado_3)"
      ],
      "metadata": {
        "colab": {
          "base_uri": "https://localhost:8080/"
        },
        "id": "E52EuIFmBdWq",
        "outputId": "a0feb831-04ef-41a4-81b3-bd7fbd41099a"
      },
      "execution_count": 158,
      "outputs": [
        {
          "output_type": "stream",
          "name": "stdout",
          "text": [
            "    Ano                     ProdutoMaisVendido  ValorTotal\n",
            "0  2018  Canon imageCLASS 2200 Advanced Copier   35699.898\n"
          ]
        }
      ]
    },
    {
      "cell_type": "markdown",
      "source": [
        "2018:🥇'Canon imageCLASS 2200 Advanced Copier'"
      ],
      "metadata": {
        "id": "zcpeP1og3s82"
      }
    },
    {
      "cell_type": "markdown",
      "source": [
        "## **2º pergunta:**"
      ],
      "metadata": {
        "id": "Hs6uarYm9-q3"
      }
    },
    {
      "cell_type": "code",
      "source": [
        "query_4 ='''\n",
        "SELECT\n",
        "  EXTRACT(YEAR FROM CAST(\"Order Date\" AS DATE)) AS Ano,\n",
        "CASE\n",
        "  WHEN EXTRACT(MONTH FROM CAST(\"Order Date\" AS DATE)) BETWEEN 1 AND 6 THEN '1º Semestre'\n",
        "  WHEN EXTRACT(MONTH FROM CAST(\"Order Date\" AS DATE)) BETWEEN 7 AND 12 THEN '2º Semestre'\n",
        "  END AS Semestre,\n",
        "SUM(Sales) AS TotalVendas\n",
        "FROM clientes\n",
        "WHERE EXTRACT(YEAR FROM CAST(\"Order Date\" AS DATE)) IN (2017, 2018)\n",
        "GROUP BY Ano, Semestre\n",
        "ORDER BY Ano, Semestre;\n",
        "\n",
        "\n",
        "\n",
        "\n",
        "'''\n",
        "resultado_4 = conexao.execute(query_4).df()\n",
        "print(resultado_4)"
      ],
      "metadata": {
        "colab": {
          "base_uri": "https://localhost:8080/"
        },
        "id": "rdeldOd3xXpq",
        "outputId": "1b63185c-d8f5-4607-9873-fc7ad53ca6e9"
      },
      "execution_count": 147,
      "outputs": [
        {
          "output_type": "stream",
          "name": "stdout",
          "text": [
            "    Ano     Semestre  TotalVendas\n",
            "0  2017  1º Semestre  227747.5260\n",
            "1  2017  2º Semestre  372445.0240\n",
            "2  2018  1º Semestre  249819.5042\n",
            "3  2018  2º Semestre  472232.5150\n"
          ]
        }
      ]
    },
    {
      "cell_type": "markdown",
      "source": [
        " 🥇 2º Semestre de 2018"
      ],
      "metadata": {
        "id": "6RXAN_pQ4tuW"
      }
    },
    {
      "cell_type": "code",
      "source": [
        "query_5 ='''\n",
        "SELECT\n",
        " \"Product Name\" AS ProdutoMaisLucrativo,\n",
        " SUM(Sales) AS TotalLucro FROM clientes\n",
        "WHERE EXTRACT(YEAR FROM CAST(\"Order Date\" AS DATE)) = 2018\n",
        "AND EXTRACT(MONTH FROM CAST(\"Order Date\" AS DATE)) BETWEEN 7 AND 12\n",
        "GROUP BY \"Product Name\"\n",
        "ORDER BY TotalLucro DESC\n",
        "LIMIT 2;\n",
        "\n",
        "\n",
        "\n",
        "\n",
        "'''\n",
        "resultado_5 = conexao.execute(query_5).df()\n",
        "print(resultado_5)"
      ],
      "metadata": {
        "colab": {
          "base_uri": "https://localhost:8080/"
        },
        "id": "ukhdKZoRymI_",
        "outputId": "e00f7f6a-2640-449a-f66a-cc9af4471515"
      },
      "execution_count": 148,
      "outputs": [
        {
          "output_type": "stream",
          "name": "stdout",
          "text": [
            "                         ProdutoMaisLucrativo  TotalLucro\n",
            "0       Canon imageCLASS 2200 Advanced Copier   21699.938\n",
            "1  GBC DocuBind TL300 Electric Binding System    8252.308\n"
          ]
        }
      ]
    },
    {
      "cell_type": "markdown",
      "source": [
        "   TOP2 Produtos  :'Canon imageCLASS 2200 Advanced...' e  'GBC DocuBind TL300 Electric Binding System '"
      ],
      "metadata": {
        "id": "oEJKwA119N5u"
      }
    },
    {
      "cell_type": "markdown",
      "source": [
        "## **3º pergunta:**"
      ],
      "metadata": {
        "id": "RBhXj5cz-lDv"
      }
    },
    {
      "cell_type": "markdown",
      "source": [
        "Uma aplicação interessante  disso, seria por exemplo,direcionar o investimento de marketing da loja para os estados que lideram  em vendas"
      ],
      "metadata": {
        "id": "AozBLK5Hb2ft"
      }
    },
    {
      "cell_type": "code",
      "source": [
        "query_6 ='''\n",
        "SELECT State,\n",
        " SUM(Sales) AS totalsales\n",
        "FROM clientes\n",
        "GROUP BY State\n",
        "ORDER BY totalsales DESC LIMIT 10;\n",
        "\n",
        "\n",
        "'''\n",
        "resultado_6 = conexao.execute(query_6).df()\n",
        "print(resultado_6)"
      ],
      "metadata": {
        "colab": {
          "base_uri": "https://localhost:8080/"
        },
        "id": "Fr-dAWNQK5N0",
        "outputId": "fc511ef3-8955-4783-efd6-bdaf2a408b0a"
      },
      "execution_count": 149,
      "outputs": [
        {
          "output_type": "stream",
          "name": "stdout",
          "text": [
            "          State   totalsales\n",
            "0    California  446306.4635\n",
            "1      New York  306361.1470\n",
            "2         Texas  168572.5322\n",
            "3    Washington  135206.8500\n",
            "4  Pennsylvania  116276.6500\n",
            "5       Florida   88436.5320\n",
            "6      Illinois   79236.5170\n",
            "7      Michigan   76136.0740\n",
            "8          Ohio   75130.3500\n",
            "9      Virginia   70636.7200\n"
          ]
        }
      ]
    },
    {
      "cell_type": "markdown",
      "source": [
        " Estado da California *🥇*"
      ],
      "metadata": {
        "id": "DIRg6kJ01Qa7"
      }
    },
    {
      "cell_type": "markdown",
      "source": [
        "## **4º pergunta:**"
      ],
      "metadata": {
        "id": "r9VzYiQS-rs3"
      }
    },
    {
      "cell_type": "code",
      "source": [
        "query_7 ='''\n",
        "SELECT City,\n",
        " SUM(Sales) AS totalsales\n",
        "FROM clientes\n",
        "WHERE State = 'California'\n",
        "GROUP BY City\n",
        "ORDER BY totalsales DESC\n",
        "LIMIT 3;\n",
        "\n",
        "'''\n",
        "resultado_7 = conexao.execute(query_7).df()\n",
        "print(resultado_7)"
      ],
      "metadata": {
        "colab": {
          "base_uri": "https://localhost:8080/"
        },
        "id": "YYJ5eNnSM_wp",
        "outputId": "87b9ba85-f6de-4ed9-a1c2-2d6ea7a1015c"
      },
      "execution_count": 162,
      "outputs": [
        {
          "output_type": "stream",
          "name": "stdout",
          "text": [
            "            City  totalsales\n",
            "0    Los Angeles  173420.181\n",
            "1  San Francisco  109041.120\n",
            "2      San Diego   47521.029\n"
          ]
        }
      ]
    },
    {
      "cell_type": "markdown",
      "source": [
        "## **5º pergunta:**"
      ],
      "metadata": {
        "id": "LoqSTBxv-3S3"
      }
    },
    {
      "cell_type": "code",
      "source": [
        "query_8 ='''\n",
        "SELECT\n",
        "DISTINCT\n",
        "Category,\n",
        "\n",
        "FROM clientes\n",
        ";\n",
        "\n",
        "'''\n",
        "resultado_8 = conexao.execute(query_8).df()\n",
        "print(resultado_8)"
      ],
      "metadata": {
        "colab": {
          "base_uri": "https://localhost:8080/"
        },
        "id": "6mubfzocNLhT",
        "outputId": "25da2d84-2702-4ff7-8453-149f19f7a59d"
      },
      "execution_count": 163,
      "outputs": [
        {
          "output_type": "stream",
          "name": "stdout",
          "text": [
            "          Category\n",
            "0        Furniture\n",
            "1  Office Supplies\n",
            "2       Technology\n"
          ]
        }
      ]
    },
    {
      "cell_type": "markdown",
      "source": [
        "## **6º pergunta:**"
      ],
      "metadata": {
        "id": "pZsGPpZZ-8jI"
      }
    },
    {
      "cell_type": "code",
      "source": [
        "query_9 ='''\n",
        "SELECT\n",
        "Category,\n",
        " SUM(CASE WHEN State = 'California' THEN Sales ELSE 0 END) AS TotalSales_California,\n",
        " SUM(CASE WHEN State = 'New York' THEN Sales ELSE 0 END) AS TotalSales_NY,\n",
        " SUM(CASE WHEN State = 'Texas' THEN Sales ELSE 0 END) AS TotalSales_Texas\n",
        "FROM clientes\n",
        "WHERE State IN ('California', 'New York','Texas')\n",
        "GROUP BY Category\n",
        "ORDER BY Category DESC ;\n",
        "\n",
        "'''\n",
        "resultado_9 = conexao.execute(query_9).df()\n",
        "print(resultado_9)"
      ],
      "metadata": {
        "colab": {
          "base_uri": "https://localhost:8080/"
        },
        "id": "a6dUlWj6M4Hz",
        "outputId": "3aa43020-ab7e-4826-fb8e-4c54d9a873d3"
      },
      "execution_count": 164,
      "outputs": [
        {
          "output_type": "stream",
          "name": "stdout",
          "text": [
            "          Category  TotalSales_California  TotalSales_NY  TotalSales_Texas\n",
            "0       Technology            154684.1800     126902.690        64656.2720\n",
            "1  Office Supplies            139405.7480      86953.892        44282.6160\n",
            "2        Furniture            152216.5355      92504.565        59633.6442\n"
          ]
        }
      ]
    },
    {
      "cell_type": "markdown",
      "source": [
        "Categoria de Tecnologia 🥇"
      ],
      "metadata": {
        "id": "6HhxxQ_W1duv"
      }
    },
    {
      "cell_type": "markdown",
      "source": [
        "## **7º pergunta:**"
      ],
      "metadata": {
        "id": "mrZS6E8r_JGm"
      }
    },
    {
      "cell_type": "code",
      "source": [
        "query_10='''\n",
        "\n",
        "\n",
        "SELECT\n",
        "  \"Category\" AS CategoriaMaisVendida,\n",
        "  SUM(Sales) AS TotalVendas\n",
        "FROM clientes\n",
        "WHERE EXTRACT(YEAR FROM CAST(\"Order Date\" AS DATE)) = 2016\n",
        "GROUP BY \"Category\"\n",
        "ORDER BY TotalVendas DESC\n",
        "LIMIT 3;\n",
        "\n",
        "\n",
        "\n",
        "\n",
        "'''\n",
        "resultado_10 = conexao.execute(query_10).df()\n",
        "print(resultado_10)"
      ],
      "metadata": {
        "colab": {
          "base_uri": "https://localhost:8080/"
        },
        "id": "jdXtRXHINSUK",
        "outputId": "3eb7798d-10a7-43bb-b6bc-a9caedba8481"
      },
      "execution_count": 157,
      "outputs": [
        {
          "output_type": "stream",
          "name": "stdout",
          "text": [
            "  CategoriaMaisVendida  TotalVendas\n",
            "0            Furniture  164053.8674\n",
            "1           Technology  162257.7310\n",
            "2      Office Supplies  133124.4070\n"
          ]
        }
      ]
    },
    {
      "cell_type": "markdown",
      "source": [
        "Após analisar cada ano ,descubro que o unico ano em que a categoria de 'Tecnologia' não foi a campeã em valor de vendas foi em 2016 em que a categoria 'Furniture\" foi a vencedora!"
      ],
      "metadata": {
        "id": "bS5eltwb2Mid"
      }
    },
    {
      "cell_type": "markdown",
      "source": [
        "## **8º pergunta:**"
      ],
      "metadata": {
        "id": "EG1QaK2k_bBS"
      }
    },
    {
      "cell_type": "code",
      "source": [
        "query_11='''\n",
        "SELECT \"Sub-Category\",\n",
        " SUM(Sales) AS TotalVendas\n",
        "FROM clientes\n",
        "WHERE Category = 'Technology'\n",
        "GROUP BY \"Sub-Category\"\n",
        "ORDER BY TotalVendas DESC\n",
        "LIMIT 1;\n",
        "'''\n",
        "resultado_11 = conexao.execute(query_11).df()\n",
        "print(resultado_11)"
      ],
      "metadata": {
        "colab": {
          "base_uri": "https://localhost:8080/"
        },
        "id": "CNUJU2LIUws6",
        "outputId": "de010177-b1b1-457d-d153-68da47363896"
      },
      "execution_count": 165,
      "outputs": [
        {
          "output_type": "stream",
          "name": "stdout",
          "text": [
            "  Sub-Category  TotalVendas\n",
            "0       Phones   327782.448\n"
          ]
        }
      ]
    },
    {
      "cell_type": "markdown",
      "source": [
        "Sub Categoria 'Phones' 🥇"
      ],
      "metadata": {
        "id": "Obxqge8W2pDv"
      }
    },
    {
      "cell_type": "markdown",
      "source": [
        "## **9º pergunta:**"
      ],
      "metadata": {
        "id": "QXpuo3v0_iWG"
      }
    },
    {
      "cell_type": "code",
      "source": [
        "query_12 ='''\n",
        "SELECT \"Ship Mode\",\n",
        " COUNT(*) AS Quantidade\n",
        "FROM clientes\n",
        "WHERE \"Ship Mode\" IN ('Standard Class', 'Second Class')\n",
        "GROUP BY \"Ship Mode\"\n",
        "ORDER BY Quantidade DESC;\n",
        "\n",
        "'''\n",
        "resultado_12 = conexao.execute(query_12).df()\n",
        "print(resultado_12)"
      ],
      "metadata": {
        "colab": {
          "base_uri": "https://localhost:8080/"
        },
        "id": "MGzBFTCPK59a",
        "outputId": "48bf7b9c-79b5-47c2-b332-f1bddbfb25fc"
      },
      "execution_count": 166,
      "outputs": [
        {
          "output_type": "stream",
          "name": "stdout",
          "text": [
            "        Ship Mode  Quantidade\n",
            "0  Standard Class        5859\n",
            "1    Second Class        1902\n"
          ]
        }
      ]
    },
    {
      "cell_type": "markdown",
      "source": [
        "## **10º pergunta:**"
      ],
      "metadata": {
        "id": "IjuARsAi_wgZ"
      }
    },
    {
      "cell_type": "code",
      "source": [
        "query_13='''\n",
        "SELECT\n",
        " \"Product Name\" AS ProdutoCampeão,\n",
        " SUM(Sales) AS TotalVendas\n",
        "FROM clientes\n",
        "GROUP BY \"Product Name\"\n",
        "ORDER BY TotalVendas DESC\n",
        "LIMIT 1;\n",
        "\n",
        "'''\n",
        "\n",
        "resultado_13 = conexao.execute(query_13).df()\n",
        "print(resultado_13)"
      ],
      "metadata": {
        "colab": {
          "base_uri": "https://localhost:8080/"
        },
        "id": "f5aEMM2u559a",
        "outputId": "2b072f14-3092-45b4-d926-631d47d3fdfa"
      },
      "execution_count": 167,
      "outputs": [
        {
          "output_type": "stream",
          "name": "stdout",
          "text": [
            "                          ProdutoCampeão  TotalVendas\n",
            "0  Canon imageCLASS 2200 Advanced Copier    61599.824\n"
          ]
        }
      ]
    },
    {
      "cell_type": "markdown",
      "source": [
        "Produto que mais vendeu em valor foi 🥇: 'Canon imageCLASS 2200 Advanced Copier'\n",
        "\n",
        ">\n",
        "\n"
      ],
      "metadata": {
        "id": "p4f9KkVv6V5V"
      }
    },
    {
      "cell_type": "markdown",
      "source": [
        "## **11º pergunta:**"
      ],
      "metadata": {
        "id": "TzG_irH4_0oJ"
      }
    },
    {
      "cell_type": "markdown",
      "source": [
        "Podemos supor que o motivo de saber o nome e o codigo postal da pessoa pode ser para enviar um voucher de desconto para essas pessoas adquirirem outro produto da loja."
      ],
      "metadata": {
        "id": "4WymAj9c6naQ"
      }
    },
    {
      "cell_type": "code",
      "source": [
        "\n",
        "query_14='''\n",
        "\n",
        "SELECT \"Customer Name\",\"Postal Code\", SUM(Sales)\n",
        "FROM clientes\n",
        "WHERE \"Product Name\" = 'Canon imageCLASS 2200 Advanced Copier'\n",
        "GROUP BY \"Customer Name\",\"Postal Code\"\n",
        ";\n",
        "'''\n",
        "resultado_14 = conexao.execute(query_14).df()\n",
        "print(resultado_14)"
      ],
      "metadata": {
        "colab": {
          "base_uri": "https://localhost:8080/"
        },
        "id": "no0TtMw6JlYs",
        "outputId": "920bd16e-ce94-465c-8ead-4ff5fbc8c286"
      },
      "execution_count": 172,
      "outputs": [
        {
          "output_type": "stream",
          "name": "stdout",
          "text": [
            "        Customer Name  Postal Code  sum(Sales)\n",
            "0        Tom Ashbrook      10024.0   11199.968\n",
            "1        Hunter Lopez      19711.0   10499.970\n",
            "2  Christopher Conant      19120.0    8399.976\n",
            "3        Tamara Chand      47905.0   17499.950\n",
            "4        Raymond Buch      98115.0   13999.960\n"
          ]
        }
      ]
    },
    {
      "cell_type": "markdown",
      "source": [
        "## **12º pergunta:**"
      ],
      "metadata": {
        "id": "gLoy4I2V_8CE"
      }
    },
    {
      "cell_type": "markdown",
      "source": [
        "O motivo de se querer comparar se houve algum  mês de novembro de um dos anos  em que o faturamento foi maior que o mês de dezembro pode ser para comparação  de vendas,já que em dezembro as lojas costumam ter "evento de natal"  onde se tem promoções em determinados  produtos da loja."
      ],
      "metadata": {
        "id": "efQO2fv87Q7n"
      }
    },
    {
      "cell_type": "markdown",
      "source": [
        "Após uma analise percebo que apenas em 2016 teve mais vendas no mês 11 que no mês 12, onde podemos supor  que  a partir de 2017 a loja veio com propostas de ofertas imperdiveis para o natal o que fez  subir o faturamento comparado com o mês anterior."
      ],
      "metadata": {
        "id": "lwYpapQv7wyF"
      }
    },
    {
      "cell_type": "code",
      "source": [
        "query_15 ='''\n",
        "SELECT\n",
        " EXTRACT(YEAR FROM CAST(\"Order Date\" AS DATE)) AS Ano,\n",
        " EXTRACT(MONTH FROM CAST(\"Order Date\" AS DATE)) AS Mes,\n",
        " SUM(Sales) AS TotalVendas\n",
        "FROM clientes\n",
        "WHERE EXTRACT(MONTH FROM CAST(\"Order Date\" AS DATE)) =12\n",
        "  AND EXTRACT(YEAR FROM CAST(\"Order Date\" AS DATE)) = 2016\n",
        "GROUP BY Ano, Mes\n",
        "ORDER BY Ano DESC, Mes DESC;\n",
        "\n",
        "\n",
        "\n",
        "'''\n",
        "resultado_15 = conexao.execute(query_15).df()\n",
        "print(resultado_15)"
      ],
      "metadata": {
        "colab": {
          "base_uri": "https://localhost:8080/"
        },
        "id": "UN0blPTSOfeL",
        "outputId": "a13becdc-f2fd-46bb-c05d-5a33278ed9de"
      },
      "execution_count": 185,
      "outputs": [
        {
          "output_type": "stream",
          "name": "stdout",
          "text": [
            "    Ano  Mes  TotalVendas\n",
            "0  2016   12   74543.6012\n"
          ]
        }
      ]
    },
    {
      "cell_type": "markdown",
      "source": [
        "## **13º pergunta:**"
      ],
      "metadata": {
        "id": "wGHBHJ9e_-0W"
      }
    },
    {
      "cell_type": "markdown",
      "source": [
        " Podemos supor que os TOP 3 clientes que mais consumiram na loja vão receber em sua casa uma bicicleta."
      ],
      "metadata": {
        "id": "uwFFIx0j7upA"
      }
    },
    {
      "cell_type": "code",
      "source": [
        "query_16='''\n",
        "SELECT \"Customer ID\", \"Customer Name\",\"Postal Code\",\n",
        "  SUM(Sales) AS TotalGasto\n",
        "FROM clientes\n",
        "GROUP BY \"Customer ID\", \"Customer Name\", \"Postal Code\"\n",
        "ORDER BY TotalGasto DESC\n",
        "LIMIT 3;\n",
        "'''\n",
        "resultado_16 = conexao.execute(query_16).df()\n",
        "print(resultado_16)"
      ],
      "metadata": {
        "colab": {
          "base_uri": "https://localhost:8080/"
        },
        "id": "I6vX9SWIY1hM",
        "outputId": "55f520a4-bc1c-4a72-ed3d-0ac418b80358"
      },
      "execution_count": 171,
      "outputs": [
        {
          "output_type": "stream",
          "name": "stdout",
          "text": [
            "  Customer ID Customer Name  Postal Code  TotalGasto\n",
            "0    SM-20320   Sean Miller      32216.0   23661.228\n",
            "1    TC-20980  Tamara Chand      47905.0   18336.740\n",
            "2    RB-19360  Raymond Buch      98115.0   14052.480\n"
          ]
        }
      ]
    }
  ]
}
