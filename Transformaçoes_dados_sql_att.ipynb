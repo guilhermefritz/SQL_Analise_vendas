{
 "cells": [
  {
   "cell_type": "markdown",
   "metadata": {
    "colab_type": "text",
    "id": "view-in-github"
   },
   "source": [
    "<a href=\"https://colab.research.google.com/github/guilhermefritz/SQL_Projects/blob/main/Transforma%C3%A7oes_dados_sql.ipynb\" target=\"_parent\"><img src=\"https://colab.research.google.com/assets/colab-badge.svg\" alt=\"Open In Colab\"/></a>"
   ]
  },
  {
   "cell_type": "markdown",
   "metadata": {
    "id": "0AQskpxdpVrf"
   },
   "source": [
    " ## Feito por Guilherme Fritz\n",
    "\n",
    "\n",
    "\n",
    "\n",
    "\n"
   ]
  },
  {
   "cell_type": "markdown",
   "metadata": {
    "id": "7cp3lLL7A8Zk"
   },
   "source": [
    "### Esse projeto tem o objetivo de demonstrar as transformações que são aplicadas constantemente em variaveis  para a realização de análises aprofundadas  e construção de gráficos .\n",
    "#### * Categorização\n",
    "#### * Enconding (Label Encoding e One -Hot enconding)\n",
    "#### * Binarização"
   ]
  },
  {
   "cell_type": "markdown",
   "metadata": {},
   "source": [
    "---------------------------------------------------------------------------------------------"
   ]
  },
  {
   "cell_type": "markdown",
   "metadata": {
    "id": "XHYfHHGOlncX"
   },
   "source": [
    "Banco de dados -Avaliação de carros.\n",
    "\n",
    "Disponivel em https://archive.ics.uci.edu/dataset/19/car+evaluation"
   ]
  },
  {
   "cell_type": "markdown",
   "metadata": {},
   "source": [
    "------------------------------------------------------------------"
   ]
  },
  {
   "cell_type": "markdown",
   "metadata": {},
   "source": [
    "### Dicionário dos dados\n"
   ]
  },
  {
   "cell_type": "markdown",
   "metadata": {},
   "source": [
    "#### Variaveis                    Car acceptability\n",
    "              \n",
    "- buying -               Preço de compra em categorias ['vhigh','high','med','low'][Muito alto,alto,medio,baixo]\n",
    "\n",
    "- maint  -              Preço de manutenção        \n",
    "\n",
    "- doors  -             numero de portas\n",
    "\n",
    "- persons -            capacidade de pessoas\n",
    "\n",
    "- lug_boot -          tamanho do porta - malas ['small','med','big']\n",
    "\n",
    "- safety   -          Nivel de segurança do carro['low','med','big']\n",
    "\n",
    "- Target    -         Alvo ['unacceptable(unacc)', 'acceptable(acc)', 'good', 'very good(vhigh']=[Inaceitavel,aceitavel,bom,muito bom ]"
   ]
  },
  {
   "cell_type": "code",
   "execution_count": 35,
   "metadata": {},
   "outputs": [],
   "source": [
    "!pip install -q ipython-sql\n",
    "#Instalando a biblioteca que permite utilizar banco de dados com python"
   ]
  },
  {
   "cell_type": "code",
   "execution_count": 6,
   "metadata": {},
   "outputs": [],
   "source": [
    "import sqlite3\n",
    "import pandas as pd"
   ]
  },
  {
   "cell_type": "code",
   "execution_count": 7,
   "metadata": {},
   "outputs": [],
   "source": [
    "df=pd.read_csv('D:\\datasets\\car_data_new.csv')"
   ]
  },
  {
   "cell_type": "code",
   "execution_count": 8,
   "metadata": {},
   "outputs": [],
   "source": [
    "cnn = sqlite3.connect('D:/SQL/banco.db2')"
   ]
  },
  {
   "cell_type": "code",
   "execution_count": 37,
   "metadata": {},
   "outputs": [],
   "source": [
    "#Celular que alimenta o banco sql com os dados,deixei comentado por que ja havia alimentado.\n",
    "#df.to_sql('Car',cnn)"
   ]
  },
  {
   "cell_type": "code",
   "execution_count": 71,
   "metadata": {},
   "outputs": [
    {
     "name": "stdout",
     "output_type": "stream",
     "text": [
      "<class 'pandas.core.frame.DataFrame'>\n",
      "RangeIndex: 1728 entries, 0 to 1727\n",
      "Data columns (total 7 columns):\n",
      " #   Column   Non-Null Count  Dtype \n",
      "---  ------   --------------  ----- \n",
      " 0   buying   1728 non-null   object\n",
      " 1   maint    1728 non-null   object\n",
      " 2   doors    1728 non-null   object\n",
      " 3   persons  1728 non-null   object\n",
      " 4   lug_bot  1728 non-null   object\n",
      " 5   safety   1728 non-null   object\n",
      " 6   Target   1728 non-null   object\n",
      "dtypes: object(7)\n",
      "memory usage: 94.6+ KB\n"
     ]
    }
   ],
   "source": [
    "#Informaçoes das variaveis\n",
    "df.info()"
   ]
  },
  {
   "cell_type": "code",
   "execution_count": 9,
   "metadata": {},
   "outputs": [],
   "source": [
    "#Para poder utilizar a magica sql \n",
    "%load_ext sql"
   ]
  },
  {
   "cell_type": "code",
   "execution_count": 10,
   "metadata": {},
   "outputs": [],
   "source": [
    "%sql sqlite:///D:/SQL/banco.db2"
   ]
  },
  {
   "cell_type": "markdown",
   "metadata": {
    "id": "vgITrVzedkir"
   },
   "source": [
    "### Assim estava o banco de dados antes das transformações:"
   ]
  },
  {
   "cell_type": "code",
   "execution_count": 12,
   "metadata": {
    "colab": {
     "base_uri": "https://localhost:8080/",
     "height": 419
    },
    "id": "bcU_6ByUctOO",
    "outputId": "afcfaada-489b-4498-ee95-d93235cc9089"
   },
   "outputs": [
    {
     "name": "stdout",
     "output_type": "stream",
     "text": [
      " * sqlite:///D:/SQL/banco.db2\n",
      "Done.\n"
     ]
    },
    {
     "data": {
      "text/html": [
       "<table>\n",
       "    <thead>\n",
       "        <tr>\n",
       "            <th>index</th>\n",
       "            <th>buying</th>\n",
       "            <th>maint</th>\n",
       "            <th>doors</th>\n",
       "            <th>persons</th>\n",
       "            <th>lug_bot</th>\n",
       "            <th>safety</th>\n",
       "            <th>Target</th>\n",
       "        </tr>\n",
       "    </thead>\n",
       "    <tbody>\n",
       "        <tr>\n",
       "            <td>0</td>\n",
       "            <td>vhigh</td>\n",
       "            <td>vhigh</td>\n",
       "            <td>2</td>\n",
       "            <td>2</td>\n",
       "            <td>small</td>\n",
       "            <td>low</td>\n",
       "            <td>unacc</td>\n",
       "        </tr>\n",
       "        <tr>\n",
       "            <td>1</td>\n",
       "            <td>vhigh</td>\n",
       "            <td>vhigh</td>\n",
       "            <td>2</td>\n",
       "            <td>2</td>\n",
       "            <td>small</td>\n",
       "            <td>med</td>\n",
       "            <td>unacc</td>\n",
       "        </tr>\n",
       "        <tr>\n",
       "            <td>2</td>\n",
       "            <td>vhigh</td>\n",
       "            <td>vhigh</td>\n",
       "            <td>2</td>\n",
       "            <td>2</td>\n",
       "            <td>small</td>\n",
       "            <td>high</td>\n",
       "            <td>unacc</td>\n",
       "        </tr>\n",
       "        <tr>\n",
       "            <td>3</td>\n",
       "            <td>vhigh</td>\n",
       "            <td>vhigh</td>\n",
       "            <td>2</td>\n",
       "            <td>2</td>\n",
       "            <td>med</td>\n",
       "            <td>low</td>\n",
       "            <td>unacc</td>\n",
       "        </tr>\n",
       "        <tr>\n",
       "            <td>4</td>\n",
       "            <td>vhigh</td>\n",
       "            <td>vhigh</td>\n",
       "            <td>2</td>\n",
       "            <td>2</td>\n",
       "            <td>med</td>\n",
       "            <td>med</td>\n",
       "            <td>unacc</td>\n",
       "        </tr>\n",
       "        <tr>\n",
       "            <td>5</td>\n",
       "            <td>vhigh</td>\n",
       "            <td>vhigh</td>\n",
       "            <td>2</td>\n",
       "            <td>2</td>\n",
       "            <td>med</td>\n",
       "            <td>high</td>\n",
       "            <td>unacc</td>\n",
       "        </tr>\n",
       "        <tr>\n",
       "            <td>6</td>\n",
       "            <td>vhigh</td>\n",
       "            <td>vhigh</td>\n",
       "            <td>2</td>\n",
       "            <td>2</td>\n",
       "            <td>big</td>\n",
       "            <td>low</td>\n",
       "            <td>unacc</td>\n",
       "        </tr>\n",
       "        <tr>\n",
       "            <td>7</td>\n",
       "            <td>vhigh</td>\n",
       "            <td>vhigh</td>\n",
       "            <td>2</td>\n",
       "            <td>2</td>\n",
       "            <td>big</td>\n",
       "            <td>med</td>\n",
       "            <td>unacc</td>\n",
       "        </tr>\n",
       "        <tr>\n",
       "            <td>8</td>\n",
       "            <td>vhigh</td>\n",
       "            <td>vhigh</td>\n",
       "            <td>2</td>\n",
       "            <td>2</td>\n",
       "            <td>big</td>\n",
       "            <td>high</td>\n",
       "            <td>unacc</td>\n",
       "        </tr>\n",
       "        <tr>\n",
       "            <td>9</td>\n",
       "            <td>vhigh</td>\n",
       "            <td>vhigh</td>\n",
       "            <td>2</td>\n",
       "            <td>4</td>\n",
       "            <td>small</td>\n",
       "            <td>low</td>\n",
       "            <td>unacc</td>\n",
       "        </tr>\n",
       "    </tbody>\n",
       "</table>"
      ],
      "text/plain": [
       "[(0, 'vhigh', 'vhigh', '2', '2', 'small', 'low', 'unacc'),\n",
       " (1, 'vhigh', 'vhigh', '2', '2', 'small', 'med', 'unacc'),\n",
       " (2, 'vhigh', 'vhigh', '2', '2', 'small', 'high', 'unacc'),\n",
       " (3, 'vhigh', 'vhigh', '2', '2', 'med', 'low', 'unacc'),\n",
       " (4, 'vhigh', 'vhigh', '2', '2', 'med', 'med', 'unacc'),\n",
       " (5, 'vhigh', 'vhigh', '2', '2', 'med', 'high', 'unacc'),\n",
       " (6, 'vhigh', 'vhigh', '2', '2', 'big', 'low', 'unacc'),\n",
       " (7, 'vhigh', 'vhigh', '2', '2', 'big', 'med', 'unacc'),\n",
       " (8, 'vhigh', 'vhigh', '2', '2', 'big', 'high', 'unacc'),\n",
       " (9, 'vhigh', 'vhigh', '2', '4', 'small', 'low', 'unacc')]"
      ]
     },
     "execution_count": 12,
     "metadata": {},
     "output_type": "execute_result"
    }
   ],
   "source": [
    "%%sql\n",
    "SELECT * FROM Car\n",
    "LIMIT 10\n",
    "#Limit limita os dados no caso em 10 linhas"
   ]
  },
  {
   "cell_type": "markdown",
   "metadata": {},
   "source": [
    "-------------------------------------------------"
   ]
  },
  {
   "cell_type": "markdown",
   "metadata": {},
   "source": [
    " #### * Obs: Necessário antes de cada transformaçao a verificação de valores ausentes em cada variavel,pode-se fazer isso utilizando o DISTINCT\n",
    "    "
   ]
  },
  {
   "cell_type": "markdown",
   "metadata": {},
   "source": [
    "### !!!!!Cada mudança que aplico ,no final trago a coluna antiga comparada com a  coluna transformada"
   ]
  },
  {
   "cell_type": "markdown",
   "metadata": {
    "id": "ZPy3N8dFc3gD"
   },
   "source": [
    "## -Categorização"
   ]
  },
  {
   "cell_type": "markdown",
   "metadata": {
    "id": "YTZeIWCrdHH9"
   },
   "source": [
    "   * O objetivo da categorização seria para diminuir a dimensionalidade da variavel categorica e facilitar analises"
   ]
  },
  {
   "cell_type": "markdown",
   "metadata": {
    "id": "sGO_WTTvdwFr"
   },
   "source": [
    "#### Verifiquei que a variavel categoerica 'buying' era composta por 4 classes :['vhigh' 'high' 'med' 'low'] e transformamos para que tivesse 2 classes :['Alto' ,'Baixo']"
   ]
  },
  {
   "cell_type": "code",
   "execution_count": 15,
   "metadata": {},
   "outputs": [
    {
     "name": "stdout",
     "output_type": "stream",
     "text": [
      "  buying buying_less\n",
      "0  vhigh        Alto\n",
      "1   high        Alto\n",
      "2    med       Baixo\n",
      "3    low       Baixo\n"
     ]
    }
   ],
   "source": [
    "#Alem da magica sql trago a opçao de fazer os comandos pelo cursor \n",
    "conn = sqlite3.connect('D:/SQL/banco.db2')\n",
    "\n",
    "# Criar um cursor\n",
    "cursor = conn.cursor()\n",
    "\n",
    "cursor.execute(''' SELECT  DISTINCT buying,\n",
    "      CASE\n",
    "        WHEN buying= 'vhigh' OR buying='high' THEN 'Alto'\n",
    "        WHEN buying= 'med' OR buying='low' THEN 'Baixo'\n",
    "      \n",
    "      END as buying_less\n",
    "    FROM Car ''')\n",
    "\n",
    "resultados = cursor.fetchall()\n",
    "\n",
    "\n",
    "\n",
    "\n",
    "# Exibir os resultados\n",
    "df = pd.DataFrame(resultados, columns=['buying','buying_less'])\n",
    "print(df)"
   ]
  },
  {
   "cell_type": "markdown",
   "metadata": {
    "id": "0hPT1NwFbjvW"
   },
   "source": [
    "# -Enconding"
   ]
  },
  {
   "cell_type": "markdown",
   "metadata": {
    "id": "9V7wyJF9hntF"
   },
   "source": [
    "* O objetivo do enconding seria transformar a variavel categorica para sua representação númerica"
   ]
  },
  {
   "cell_type": "markdown",
   "metadata": {
    "id": "75dQAiFSeQcO"
   },
   "source": [
    "### Label Encoding"
   ]
  },
  {
   "cell_type": "markdown",
   "metadata": {
    "id": "ZlWOAEhZevmE"
   },
   "source": [
    "#### -Verifiquei que a variavel categorica 'safety' era composta por 3 classes :['low' 'med' 'high'],apliquei o enconding para obter a representação numerica da variavel que ficou : [1,2,3]"
   ]
  },
  {
   "cell_type": "code",
   "execution_count": 16,
   "metadata": {},
   "outputs": [
    {
     "name": "stdout",
     "output_type": "stream",
     "text": [
      "  safety  safety_num\n",
      "0    low           1\n",
      "1    med           2\n",
      "2   high           3\n"
     ]
    }
   ],
   "source": [
    "\n",
    "\n",
    "# Executar a consulta SQL\n",
    "cursor.execute('''\n",
    "   SELECT  DISTINCT safety,\n",
    "      CASE\n",
    "        WHEN safety='low' THEN 1\n",
    "        WHEN safety='med' THEN 2\n",
    "        WHEN safety='high' THEN 3\n",
    "      END as safety_num\n",
    "    FROM Car\n",
    "''')\n",
    "\n",
    "\n",
    "# Obter os resultados\n",
    "resultados = cursor.fetchall()\n",
    "\n",
    "\n",
    "\n",
    "\n",
    "# Exibir os resultados\n",
    "df = pd.DataFrame(resultados, columns=['safety','safety_num'])\n",
    "print(df)"
   ]
  },
  {
   "cell_type": "markdown",
   "metadata": {},
   "source": [
    "-------------------------------------------------------------------"
   ]
  },
  {
   "cell_type": "markdown",
   "metadata": {},
   "source": [
    "#### Verifiquei que a variavel 'Target' era categorica e que era composta por 4 classes :['unacc' 'acc' 'vgood','good'],apliquei o enconding para obter a representação numerica da variavel que ficou assim [1,2,3,4]"
   ]
  },
  {
   "cell_type": "code",
   "execution_count": 17,
   "metadata": {},
   "outputs": [
    {
     "name": "stdout",
     "output_type": "stream",
     "text": [
      "  Target  target_num\n",
      "0  unacc           1\n",
      "1    acc           2\n",
      "2  vgood           3\n",
      "3   good           4\n"
     ]
    }
   ],
   "source": [
    "cursor.execute(''' SELECT  DISTINCT Target,\n",
    "      CASE\n",
    "        WHEN Target= 'unacc' THEN 1\n",
    "        WHEN Target= 'acc' THEN 2\n",
    "        WHEN Target= 'vgood' THEN 3\n",
    "        WHEN Target= 'good' THEN 4\n",
    "        \n",
    "      \n",
    "      END as target_num\n",
    "    FROM Car ''')\n",
    "\n",
    "resultados = cursor.fetchall()\n",
    "\n",
    "cursor.close()\n",
    "conn.close()\n",
    "\n",
    "\n",
    "# Exibir os resultados\n",
    "df = pd.DataFrame(resultados, columns=['Target','target_num'])\n",
    "print(df)"
   ]
  },
  {
   "cell_type": "markdown",
   "metadata": {
    "id": "y1zYENglgPeP"
   },
   "source": [
    "###  One-hot-enconding"
   ]
  },
  {
   "cell_type": "markdown",
   "metadata": {
    "id": "MRkdjVNjgxjN"
   },
   "source": [
    "One-hot-enconding: Tecnica utilizada para transformar as variaveis categoricas em variaveis dummy"
   ]
  },
  {
   "cell_type": "markdown",
   "metadata": {
    "id": "5nZI8n8ygeLN"
   },
   "source": [
    "#### Verifiquei que a variavel 'lug_bot' estava categorica e que era composta por 3 classes :['small','med','big'] e representação numerica da variavel que ficou distribuida em tres colunas, em que quando a classe em questão está presente o valor é '1' e quando não está presente o valor é '0' na tabela , regra aplicada  em todas as  classes."
   ]
  },
  {
   "cell_type": "code",
   "execution_count": 79,
   "metadata": {},
   "outputs": [
    {
     "name": "stdout",
     "output_type": "stream",
     "text": [
      " * sqlite:///D:/SQL/banco.db2\n",
      "   sqlite:///D:/SQL/banco.db3\n",
      "   sqlite:///D:/SQL/banco.db4\n",
      "   sqlite:///D:/SQL/banco.db5\n",
      "   sqlite:///D:/SQL/banco.db6\n",
      "Done.\n"
     ]
    },
    {
     "data": {
      "text/html": [
       "<table>\n",
       "    <thead>\n",
       "        <tr>\n",
       "            <th>lug_bot</th>\n",
       "            <th>l_bot_small</th>\n",
       "            <th>l_bot_med</th>\n",
       "            <th>l_bot_big</th>\n",
       "        </tr>\n",
       "    </thead>\n",
       "    <tbody>\n",
       "        <tr>\n",
       "            <td>small</td>\n",
       "            <td>1</td>\n",
       "            <td>0</td>\n",
       "            <td>0</td>\n",
       "        </tr>\n",
       "        <tr>\n",
       "            <td>med</td>\n",
       "            <td>0</td>\n",
       "            <td>1</td>\n",
       "            <td>0</td>\n",
       "        </tr>\n",
       "        <tr>\n",
       "            <td>big</td>\n",
       "            <td>0</td>\n",
       "            <td>0</td>\n",
       "            <td>1</td>\n",
       "        </tr>\n",
       "    </tbody>\n",
       "</table>"
      ],
      "text/plain": [
       "[('small', 1, 0, 0), ('med', 0, 1, 0), ('big', 0, 0, 1)]"
      ]
     },
     "execution_count": 79,
     "metadata": {},
     "output_type": "execute_result"
    }
   ],
   "source": [
    "%%sql\n",
    "\n",
    "SELECT DISTINCT lug_bot,\n",
    "  CASE WHEN lug_bot='small' THEN 1 ELSE 0 END AS l_bot_small,\n",
    "  CASE WHEN lug_bot='med' THEN 1 ELSE 0 END AS l_bot_med,\n",
    "  CASE WHEN lug_bot='big' THEN 1 ELSE 0 END AS l_bot_big\n",
    "FROM Car;\n",
    "\n",
    "\n",
    "\n",
    "\n",
    "\n"
   ]
  },
  {
   "cell_type": "markdown",
   "metadata": {
    "id": "B8YeVXZLnW-F"
   },
   "source": [
    "# Banco de dados após todas as transformações:"
   ]
  },
  {
   "cell_type": "code",
   "execution_count": 13,
   "metadata": {},
   "outputs": [
    {
     "name": "stdout",
     "output_type": "stream",
     "text": [
      " * sqlite:///D:/SQL/banco.db2\n",
      "Done.\n"
     ]
    },
    {
     "data": {
      "text/html": [
       "<table>\n",
       "    <thead>\n",
       "        <tr>\n",
       "            <th>buying_less</th>\n",
       "            <th>safety_num</th>\n",
       "            <th>target_num</th>\n",
       "            <th>maint</th>\n",
       "            <th>doors</th>\n",
       "            <th>persons</th>\n",
       "            <th>l_bot_small</th>\n",
       "            <th>l_bot_med</th>\n",
       "            <th>l_bot_big</th>\n",
       "        </tr>\n",
       "    </thead>\n",
       "    <tbody>\n",
       "        <tr>\n",
       "            <td>Alto</td>\n",
       "            <td>1</td>\n",
       "            <td>1</td>\n",
       "            <td>vhigh</td>\n",
       "            <td>2</td>\n",
       "            <td>2</td>\n",
       "            <td>1</td>\n",
       "            <td>0</td>\n",
       "            <td>0</td>\n",
       "        </tr>\n",
       "        <tr>\n",
       "            <td>Alto</td>\n",
       "            <td>2</td>\n",
       "            <td>1</td>\n",
       "            <td>vhigh</td>\n",
       "            <td>2</td>\n",
       "            <td>2</td>\n",
       "            <td>1</td>\n",
       "            <td>0</td>\n",
       "            <td>0</td>\n",
       "        </tr>\n",
       "        <tr>\n",
       "            <td>Alto</td>\n",
       "            <td>3</td>\n",
       "            <td>1</td>\n",
       "            <td>vhigh</td>\n",
       "            <td>2</td>\n",
       "            <td>2</td>\n",
       "            <td>1</td>\n",
       "            <td>0</td>\n",
       "            <td>0</td>\n",
       "        </tr>\n",
       "        <tr>\n",
       "            <td>Alto</td>\n",
       "            <td>1</td>\n",
       "            <td>1</td>\n",
       "            <td>vhigh</td>\n",
       "            <td>2</td>\n",
       "            <td>2</td>\n",
       "            <td>0</td>\n",
       "            <td>1</td>\n",
       "            <td>0</td>\n",
       "        </tr>\n",
       "        <tr>\n",
       "            <td>Alto</td>\n",
       "            <td>2</td>\n",
       "            <td>1</td>\n",
       "            <td>vhigh</td>\n",
       "            <td>2</td>\n",
       "            <td>2</td>\n",
       "            <td>0</td>\n",
       "            <td>1</td>\n",
       "            <td>0</td>\n",
       "        </tr>\n",
       "        <tr>\n",
       "            <td>Alto</td>\n",
       "            <td>3</td>\n",
       "            <td>1</td>\n",
       "            <td>vhigh</td>\n",
       "            <td>2</td>\n",
       "            <td>2</td>\n",
       "            <td>0</td>\n",
       "            <td>1</td>\n",
       "            <td>0</td>\n",
       "        </tr>\n",
       "        <tr>\n",
       "            <td>Alto</td>\n",
       "            <td>1</td>\n",
       "            <td>1</td>\n",
       "            <td>vhigh</td>\n",
       "            <td>2</td>\n",
       "            <td>2</td>\n",
       "            <td>0</td>\n",
       "            <td>0</td>\n",
       "            <td>1</td>\n",
       "        </tr>\n",
       "        <tr>\n",
       "            <td>Alto</td>\n",
       "            <td>2</td>\n",
       "            <td>1</td>\n",
       "            <td>vhigh</td>\n",
       "            <td>2</td>\n",
       "            <td>2</td>\n",
       "            <td>0</td>\n",
       "            <td>0</td>\n",
       "            <td>1</td>\n",
       "        </tr>\n",
       "        <tr>\n",
       "            <td>Alto</td>\n",
       "            <td>3</td>\n",
       "            <td>1</td>\n",
       "            <td>vhigh</td>\n",
       "            <td>2</td>\n",
       "            <td>2</td>\n",
       "            <td>0</td>\n",
       "            <td>0</td>\n",
       "            <td>1</td>\n",
       "        </tr>\n",
       "        <tr>\n",
       "            <td>Alto</td>\n",
       "            <td>1</td>\n",
       "            <td>1</td>\n",
       "            <td>vhigh</td>\n",
       "            <td>2</td>\n",
       "            <td>4</td>\n",
       "            <td>1</td>\n",
       "            <td>0</td>\n",
       "            <td>0</td>\n",
       "        </tr>\n",
       "    </tbody>\n",
       "</table>"
      ],
      "text/plain": [
       "[('Alto', 1, 1, 'vhigh', '2', '2', 1, 0, 0),\n",
       " ('Alto', 2, 1, 'vhigh', '2', '2', 1, 0, 0),\n",
       " ('Alto', 3, 1, 'vhigh', '2', '2', 1, 0, 0),\n",
       " ('Alto', 1, 1, 'vhigh', '2', '2', 0, 1, 0),\n",
       " ('Alto', 2, 1, 'vhigh', '2', '2', 0, 1, 0),\n",
       " ('Alto', 3, 1, 'vhigh', '2', '2', 0, 1, 0),\n",
       " ('Alto', 1, 1, 'vhigh', '2', '2', 0, 0, 1),\n",
       " ('Alto', 2, 1, 'vhigh', '2', '2', 0, 0, 1),\n",
       " ('Alto', 3, 1, 'vhigh', '2', '2', 0, 0, 1),\n",
       " ('Alto', 1, 1, 'vhigh', '2', '4', 1, 0, 0)]"
      ]
     },
     "execution_count": 13,
     "metadata": {},
     "output_type": "execute_result"
    }
   ],
   "source": [
    "%%sql\n",
    "\n",
    "SELECT\n",
    "    CASE\n",
    "        WHEN buying = 'vhigh' OR buying = 'high' THEN 'Alto'\n",
    "        WHEN buying = 'med' OR buying = 'low' THEN 'Baixo'\n",
    "    END as buying_less,\n",
    "    CASE\n",
    "        WHEN safety = 'low' THEN 1\n",
    "        WHEN safety = 'med' THEN 2\n",
    "        WHEN safety = 'high' THEN 3\n",
    "    END as safety_num,\n",
    "    CASE\n",
    "        WHEN Target = 'unacc' THEN 1\n",
    "        WHEN Target = 'acc' THEN 2\n",
    "        WHEN Target = 'good' THEN 3\n",
    "        WHEN Target = 'vgood' THEN 4\n",
    "    END as target_num,\n",
    "    maint, doors, persons,\n",
    "    CASE\n",
    "        WHEN lug_bot = 'small' THEN 1\n",
    "        ELSE 0\n",
    "    END AS l_bot_small,\n",
    "    CASE\n",
    "        WHEN lug_bot = 'med' THEN 1\n",
    "        ELSE 0\n",
    "    END AS l_bot_med,\n",
    "    CASE\n",
    "        WHEN lug_bot = 'big' THEN 1\n",
    "        ELSE 0\n",
    "    END AS l_bot_big\n",
    "FROM Car\n",
    "LIMIT 10;"
   ]
  },
  {
   "cell_type": "markdown",
   "metadata": {
    "id": "4zbls3PSn4__"
   },
   "source": [
    "#### Com as variaveis 'buying',lug_bot,safety,Target modificadas**"
   ]
  },
  {
   "cell_type": "markdown",
   "metadata": {
    "id": "3FbmmhIdnPsy"
   },
   "source": [
    "----------------------------------------------------------------------------------------------------------------------------------------------------------------"
   ]
  },
  {
   "cell_type": "markdown",
   "metadata": {
    "id": "RPnuYZ3H-XWk"
   },
   "source": [
    "# -Binarização"
   ]
  },
  {
   "cell_type": "markdown",
   "metadata": {
    "id": "9VM0U9do-fvO"
   },
   "source": [
    "* A binarização é usada para converter a variável categórica em uma representação numérica[0,1],em que normalmente a classe negativa recebe '0' e a classe positiva '1'"
   ]
  },
  {
   "cell_type": "markdown",
   "metadata": {
    "id": "7pzsHQqxpzQ1"
   },
   "source": [
    "**Banco de dados -Dados de paciente com cãncer de mama**"
   ]
  },
  {
   "cell_type": "markdown",
   "metadata": {
    "id": "3KDw3VdEky6C"
   },
   "source": [
    " **Nesse exemplo utilizo um banco de dados disponivel em https://archive.ics.uci.edu/dataset/14/breast+cancer**\n"
   ]
  },
  {
   "cell_type": "markdown",
   "metadata": {},
   "source": [
    "-------------------------------------------------------"
   ]
  },
  {
   "cell_type": "markdown",
   "metadata": {},
   "source": [
    "### Dicionário dos dados"
   ]
  },
  {
   "cell_type": "markdown",
   "metadata": {},
   "source": [
    "#### Variaveis                    Breast cancer\n",
    "              \n",
    "- Class -               ['no-recurrence-events', 'recurrence-events']=[evento não recorente,evento recorrrente]\n",
    "\n",
    "- Age  -                Idade    \n",
    "\n",
    "- menopausa  -          Se já está no perido da menopausa\n",
    "\n",
    "- tamanho_tumor -       Tamanho tumor\n",
    "\n",
    "- inv_nodes -           Tamanho nodulo\n",
    "\n",
    "- node_caps   -        Se tem nodulos\n",
    "\n",
    "- deg_malig-           Grau de malignitude do cancer\n",
    "- seio-                Qual seio\n",
    "- quadrante-           Qual quadrante do seio\n",
    "\n",
    "  -irradiando-           Se o cancer irradiou['yes','no']"
   ]
  },
  {
   "cell_type": "code",
   "execution_count": 18,
   "metadata": {},
   "outputs": [],
   "source": [
    "df_breast=pd.read_csv('D:/datasets/breast/breast-cancer.csv')\n",
    "cne = sqlite3.connect('D:/SQL/banco.db8')\n",
    "cursor=cne.cursor()"
   ]
  },
  {
   "cell_type": "code",
   "execution_count": 105,
   "metadata": {},
   "outputs": [
    {
     "data": {
      "text/plain": [
       "286"
      ]
     },
     "execution_count": 105,
     "metadata": {},
     "output_type": "execute_result"
    }
   ],
   "source": [
    "df_breast.to_sql ('cancer',cne)"
   ]
  },
  {
   "cell_type": "code",
   "execution_count": 21,
   "metadata": {},
   "outputs": [
    {
     "name": "stdout",
     "output_type": "stream",
     "text": [
      "The sql extension is already loaded. To reload it, use:\n",
      "  %reload_ext sql\n"
     ]
    }
   ],
   "source": [
    "%load_ext sql\n",
    "%sql sqlite:///D:/SQL/banco.db8"
   ]
  },
  {
   "cell_type": "code",
   "execution_count": 29,
   "metadata": {},
   "outputs": [
    {
     "name": "stdout",
     "output_type": "stream",
     "text": [
      "   sqlite:///D:/SQL/banco.db2\n",
      "   sqlite:///D:/SQL/banco.db6\n",
      " * sqlite:///D:/SQL/banco.db8\n",
      "Done.\n"
     ]
    },
    {
     "data": {
      "text/html": [
       "<table>\n",
       "    <thead>\n",
       "        <tr>\n",
       "            <th>index</th>\n",
       "            <th>classe</th>\n",
       "            <th>idade</th>\n",
       "            <th>menopausa</th>\n",
       "            <th>tamanho_tumor</th>\n",
       "            <th>inv_nodes</th>\n",
       "            <th>node_caps</th>\n",
       "            <th>deg_malig</th>\n",
       "            <th>seio</th>\n",
       "            <th>quadrante</th>\n",
       "            <th>irradiando</th>\n",
       "        </tr>\n",
       "    </thead>\n",
       "    <tbody>\n",
       "        <tr>\n",
       "            <td>0</td>\n",
       "            <td>no-recurrence-events</td>\n",
       "            <td>30-39</td>\n",
       "            <td>premeno</td>\n",
       "            <td>30-34</td>\n",
       "            <td>0-2</td>\n",
       "            <td>no</td>\n",
       "            <td>3</td>\n",
       "            <td>left</td>\n",
       "            <td>left_low</td>\n",
       "            <td>no</td>\n",
       "        </tr>\n",
       "        <tr>\n",
       "            <td>1</td>\n",
       "            <td>no-recurrence-events</td>\n",
       "            <td>40-49</td>\n",
       "            <td>premeno</td>\n",
       "            <td>20-24</td>\n",
       "            <td>0-2</td>\n",
       "            <td>no</td>\n",
       "            <td>2</td>\n",
       "            <td>right</td>\n",
       "            <td>right_up</td>\n",
       "            <td>no</td>\n",
       "        </tr>\n",
       "        <tr>\n",
       "            <td>2</td>\n",
       "            <td>no-recurrence-events</td>\n",
       "            <td>40-49</td>\n",
       "            <td>premeno</td>\n",
       "            <td>20-24</td>\n",
       "            <td>0-2</td>\n",
       "            <td>no</td>\n",
       "            <td>2</td>\n",
       "            <td>left</td>\n",
       "            <td>left_low</td>\n",
       "            <td>no</td>\n",
       "        </tr>\n",
       "        <tr>\n",
       "            <td>3</td>\n",
       "            <td>no-recurrence-events</td>\n",
       "            <td>60-69</td>\n",
       "            <td>ge40</td>\n",
       "            <td>15-19</td>\n",
       "            <td>0-2</td>\n",
       "            <td>no</td>\n",
       "            <td>2</td>\n",
       "            <td>right</td>\n",
       "            <td>left_up</td>\n",
       "            <td>no</td>\n",
       "        </tr>\n",
       "        <tr>\n",
       "            <td>4</td>\n",
       "            <td>no-recurrence-events</td>\n",
       "            <td>40-49</td>\n",
       "            <td>premeno</td>\n",
       "            <td>0-4</td>\n",
       "            <td>0-2</td>\n",
       "            <td>no</td>\n",
       "            <td>2</td>\n",
       "            <td>right</td>\n",
       "            <td>right_low</td>\n",
       "            <td>no</td>\n",
       "        </tr>\n",
       "        <tr>\n",
       "            <td>5</td>\n",
       "            <td>no-recurrence-events</td>\n",
       "            <td>60-69</td>\n",
       "            <td>ge40</td>\n",
       "            <td>15-19</td>\n",
       "            <td>0-2</td>\n",
       "            <td>no</td>\n",
       "            <td>2</td>\n",
       "            <td>left</td>\n",
       "            <td>left_low</td>\n",
       "            <td>no</td>\n",
       "        </tr>\n",
       "        <tr>\n",
       "            <td>6</td>\n",
       "            <td>no-recurrence-events</td>\n",
       "            <td>50-59</td>\n",
       "            <td>premeno</td>\n",
       "            <td>25-29</td>\n",
       "            <td>0-2</td>\n",
       "            <td>no</td>\n",
       "            <td>2</td>\n",
       "            <td>left</td>\n",
       "            <td>left_low</td>\n",
       "            <td>no</td>\n",
       "        </tr>\n",
       "        <tr>\n",
       "            <td>7</td>\n",
       "            <td>no-recurrence-events</td>\n",
       "            <td>60-69</td>\n",
       "            <td>ge40</td>\n",
       "            <td>20-24</td>\n",
       "            <td>0-2</td>\n",
       "            <td>no</td>\n",
       "            <td>1</td>\n",
       "            <td>left</td>\n",
       "            <td>left_low</td>\n",
       "            <td>no</td>\n",
       "        </tr>\n",
       "        <tr>\n",
       "            <td>8</td>\n",
       "            <td>no-recurrence-events</td>\n",
       "            <td>40-49</td>\n",
       "            <td>premeno</td>\n",
       "            <td>50-54</td>\n",
       "            <td>0-2</td>\n",
       "            <td>no</td>\n",
       "            <td>2</td>\n",
       "            <td>left</td>\n",
       "            <td>left_low</td>\n",
       "            <td>no</td>\n",
       "        </tr>\n",
       "        <tr>\n",
       "            <td>9</td>\n",
       "            <td>no-recurrence-events</td>\n",
       "            <td>40-49</td>\n",
       "            <td>premeno</td>\n",
       "            <td>20-24</td>\n",
       "            <td>0-2</td>\n",
       "            <td>no</td>\n",
       "            <td>2</td>\n",
       "            <td>right</td>\n",
       "            <td>left_up</td>\n",
       "            <td>no</td>\n",
       "        </tr>\n",
       "    </tbody>\n",
       "</table>"
      ],
      "text/plain": [
       "[(0, 'no-recurrence-events', '30-39', 'premeno', '30-34', '0-2', 'no', 3, 'left', 'left_low', 'no'),\n",
       " (1, 'no-recurrence-events', '40-49', 'premeno', '20-24', '0-2', 'no', 2, 'right', 'right_up', 'no'),\n",
       " (2, 'no-recurrence-events', '40-49', 'premeno', '20-24', '0-2', 'no', 2, 'left', 'left_low', 'no'),\n",
       " (3, 'no-recurrence-events', '60-69', 'ge40', '15-19', '0-2', 'no', 2, 'right', 'left_up', 'no'),\n",
       " (4, 'no-recurrence-events', '40-49', 'premeno', '0-4', '0-2', 'no', 2, 'right', 'right_low', 'no'),\n",
       " (5, 'no-recurrence-events', '60-69', 'ge40', '15-19', '0-2', 'no', 2, 'left', 'left_low', 'no'),\n",
       " (6, 'no-recurrence-events', '50-59', 'premeno', '25-29', '0-2', 'no', 2, 'left', 'left_low', 'no'),\n",
       " (7, 'no-recurrence-events', '60-69', 'ge40', '20-24', '0-2', 'no', 1, 'left', 'left_low', 'no'),\n",
       " (8, 'no-recurrence-events', '40-49', 'premeno', '50-54', '0-2', 'no', 2, 'left', 'left_low', 'no'),\n",
       " (9, 'no-recurrence-events', '40-49', 'premeno', '20-24', '0-2', 'no', 2, 'right', 'left_up', 'no')]"
      ]
     },
     "execution_count": 29,
     "metadata": {},
     "output_type": "execute_result"
    }
   ],
   "source": [
    "%%sql\n",
    "SELECT * FROM cancer\n",
    "LIMIT 10\n"
   ]
  },
  {
   "cell_type": "markdown",
   "metadata": {
    "id": "1CsT2Mq9j83x"
   },
   "source": [
    "#### Verifiquei que a variavel 'irradiando' era composta pelas classe ['yes','no'] e binarizei[0,1]"
   ]
  },
  {
   "cell_type": "code",
   "execution_count": 24,
   "metadata": {},
   "outputs": [
    {
     "name": "stdout",
     "output_type": "stream",
     "text": [
      "  irradiando  classe_irr\n",
      "0         no           0\n",
      "1        yes           1\n"
     ]
    }
   ],
   "source": [
    "cursor.execute('''\n",
    "    SELECT DISTINCT irradiando,\n",
    "    CASE\n",
    "        WHEN irradiando='no' THEN 0\n",
    "        WHEN irradiando='yes' THEN 1\n",
    "    END as classe_irr\n",
    "    FROM cancer\n",
    "''')\n",
    "resultado=cursor.fetchall()\n",
    "df_breast = pd.DataFrame(resultado, columns=['irradiando', 'classe_irr'])\n",
    "print(df_breast)"
   ]
  },
  {
   "cell_type": "markdown",
   "metadata": {
    "id": "e8b7jFRqkIUK"
   },
   "source": [
    "#### Verifiquei que a variavel 'classe' era composta pelas classe ['no-recurrence-eventss','recurrence-events'] e binarizei -[0,1]"
   ]
  },
  {
   "cell_type": "code",
   "execution_count": 25,
   "metadata": {},
   "outputs": [
    {
     "name": "stdout",
     "output_type": "stream",
     "text": [
      "                 classe  classe_num\n",
      "0  no-recurrence-events           0\n",
      "1     recurrence-events           1\n"
     ]
    }
   ],
   "source": [
    "cursor.execute('''\n",
    "    SELECT DISTINCT classe,\n",
    "    CASE\n",
    "        WHEN classe='no-recurrence-events' THEN 0\n",
    "        WHEN classe='recurrence-events' THEN 1\n",
    "    END as classe_num\n",
    "    FROM cancer\n",
    "''')\n",
    "\n",
    "resultado=cursor.fetchall()\n",
    "df_breast = pd.DataFrame(resultado, columns=['classe', 'classe_num'])\n",
    "print(df_breast)"
   ]
  },
  {
   "cell_type": "markdown",
   "metadata": {},
   "source": [
    "# Banco de dados após as transformaçoes"
   ]
  },
  {
   "cell_type": "markdown",
   "metadata": {},
   "source": [
    "#### Em que nesse banco apenas as colunas 'classe' e 'irradiando' sofreram transformaçoes"
   ]
  },
  {
   "cell_type": "code",
   "execution_count": 34,
   "metadata": {},
   "outputs": [
    {
     "name": "stdout",
     "output_type": "stream",
     "text": [
      "   sqlite:///D:/SQL/banco.db2\n",
      "   sqlite:///D:/SQL/banco.db6\n",
      " * sqlite:///D:/SQL/banco.db8\n",
      "Done.\n"
     ]
    },
    {
     "data": {
      "text/html": [
       "<table>\n",
       "    <thead>\n",
       "        <tr>\n",
       "            <th>classe_num</th>\n",
       "            <th>idade</th>\n",
       "            <th>menopausa</th>\n",
       "            <th>tamanho_tumor</th>\n",
       "            <th>inv_nodes</th>\n",
       "            <th>node_caps</th>\n",
       "            <th>deg_malig</th>\n",
       "            <th>seio</th>\n",
       "            <th>quadrante</th>\n",
       "            <th>classe_irr</th>\n",
       "        </tr>\n",
       "    </thead>\n",
       "    <tbody>\n",
       "        <tr>\n",
       "            <td>0</td>\n",
       "            <td>30-39</td>\n",
       "            <td>premeno</td>\n",
       "            <td>30-34</td>\n",
       "            <td>0-2</td>\n",
       "            <td>no</td>\n",
       "            <td>3</td>\n",
       "            <td>left</td>\n",
       "            <td>left_low</td>\n",
       "            <td>0</td>\n",
       "        </tr>\n",
       "        <tr>\n",
       "            <td>0</td>\n",
       "            <td>40-49</td>\n",
       "            <td>premeno</td>\n",
       "            <td>20-24</td>\n",
       "            <td>0-2</td>\n",
       "            <td>no</td>\n",
       "            <td>2</td>\n",
       "            <td>right</td>\n",
       "            <td>right_up</td>\n",
       "            <td>0</td>\n",
       "        </tr>\n",
       "        <tr>\n",
       "            <td>0</td>\n",
       "            <td>40-49</td>\n",
       "            <td>premeno</td>\n",
       "            <td>20-24</td>\n",
       "            <td>0-2</td>\n",
       "            <td>no</td>\n",
       "            <td>2</td>\n",
       "            <td>left</td>\n",
       "            <td>left_low</td>\n",
       "            <td>0</td>\n",
       "        </tr>\n",
       "        <tr>\n",
       "            <td>0</td>\n",
       "            <td>60-69</td>\n",
       "            <td>ge40</td>\n",
       "            <td>15-19</td>\n",
       "            <td>0-2</td>\n",
       "            <td>no</td>\n",
       "            <td>2</td>\n",
       "            <td>right</td>\n",
       "            <td>left_up</td>\n",
       "            <td>0</td>\n",
       "        </tr>\n",
       "        <tr>\n",
       "            <td>0</td>\n",
       "            <td>40-49</td>\n",
       "            <td>premeno</td>\n",
       "            <td>0-4</td>\n",
       "            <td>0-2</td>\n",
       "            <td>no</td>\n",
       "            <td>2</td>\n",
       "            <td>right</td>\n",
       "            <td>right_low</td>\n",
       "            <td>0</td>\n",
       "        </tr>\n",
       "        <tr>\n",
       "            <td>0</td>\n",
       "            <td>60-69</td>\n",
       "            <td>ge40</td>\n",
       "            <td>15-19</td>\n",
       "            <td>0-2</td>\n",
       "            <td>no</td>\n",
       "            <td>2</td>\n",
       "            <td>left</td>\n",
       "            <td>left_low</td>\n",
       "            <td>0</td>\n",
       "        </tr>\n",
       "        <tr>\n",
       "            <td>0</td>\n",
       "            <td>50-59</td>\n",
       "            <td>premeno</td>\n",
       "            <td>25-29</td>\n",
       "            <td>0-2</td>\n",
       "            <td>no</td>\n",
       "            <td>2</td>\n",
       "            <td>left</td>\n",
       "            <td>left_low</td>\n",
       "            <td>0</td>\n",
       "        </tr>\n",
       "        <tr>\n",
       "            <td>0</td>\n",
       "            <td>60-69</td>\n",
       "            <td>ge40</td>\n",
       "            <td>20-24</td>\n",
       "            <td>0-2</td>\n",
       "            <td>no</td>\n",
       "            <td>1</td>\n",
       "            <td>left</td>\n",
       "            <td>left_low</td>\n",
       "            <td>0</td>\n",
       "        </tr>\n",
       "        <tr>\n",
       "            <td>0</td>\n",
       "            <td>40-49</td>\n",
       "            <td>premeno</td>\n",
       "            <td>50-54</td>\n",
       "            <td>0-2</td>\n",
       "            <td>no</td>\n",
       "            <td>2</td>\n",
       "            <td>left</td>\n",
       "            <td>left_low</td>\n",
       "            <td>0</td>\n",
       "        </tr>\n",
       "        <tr>\n",
       "            <td>0</td>\n",
       "            <td>40-49</td>\n",
       "            <td>premeno</td>\n",
       "            <td>20-24</td>\n",
       "            <td>0-2</td>\n",
       "            <td>no</td>\n",
       "            <td>2</td>\n",
       "            <td>right</td>\n",
       "            <td>left_up</td>\n",
       "            <td>0</td>\n",
       "        </tr>\n",
       "    </tbody>\n",
       "</table>"
      ],
      "text/plain": [
       "[(0, '30-39', 'premeno', '30-34', '0-2', 'no', 3, 'left', 'left_low', 0),\n",
       " (0, '40-49', 'premeno', '20-24', '0-2', 'no', 2, 'right', 'right_up', 0),\n",
       " (0, '40-49', 'premeno', '20-24', '0-2', 'no', 2, 'left', 'left_low', 0),\n",
       " (0, '60-69', 'ge40', '15-19', '0-2', 'no', 2, 'right', 'left_up', 0),\n",
       " (0, '40-49', 'premeno', '0-4', '0-2', 'no', 2, 'right', 'right_low', 0),\n",
       " (0, '60-69', 'ge40', '15-19', '0-2', 'no', 2, 'left', 'left_low', 0),\n",
       " (0, '50-59', 'premeno', '25-29', '0-2', 'no', 2, 'left', 'left_low', 0),\n",
       " (0, '60-69', 'ge40', '20-24', '0-2', 'no', 1, 'left', 'left_low', 0),\n",
       " (0, '40-49', 'premeno', '50-54', '0-2', 'no', 2, 'left', 'left_low', 0),\n",
       " (0, '40-49', 'premeno', '20-24', '0-2', 'no', 2, 'right', 'left_up', 0)]"
      ]
     },
     "execution_count": 34,
     "metadata": {},
     "output_type": "execute_result"
    }
   ],
   "source": [
    "%%sql\n",
    "\n",
    "SELECT \n",
    "    \n",
    "    CASE\n",
    "        WHEN classe='no-recurrence-events' THEN 0\n",
    "        WHEN classe='recurrence-events' THEN 1\n",
    "    END as classe_num,\n",
    "    idade,\n",
    "    menopausa,\n",
    "    tamanho_tumor,\n",
    "    inv_nodes,\n",
    "    node_caps,\n",
    "    deg_malig,\n",
    "    seio,\n",
    "    quadrante,\n",
    "    CASE\n",
    "        WHEN irradiando='no' THEN 0\n",
    "        WHEN irradiando='yes' THEN 1\n",
    "    END as classe_irr\n",
    "FROM \n",
    "    cancer\n",
    "LIMIT 10;"
   ]
  },
  {
   "cell_type": "markdown",
   "metadata": {},
   "source": [
    "--------------------------------------------"
   ]
  },
  {
   "cell_type": "markdown",
   "metadata": {
    "id": "ADCHslIKqYMx"
   },
   "source": [
    "\n",
    "# FIM\n",
    "\n"
   ]
  }
 ],
 "metadata": {
  "colab": {
   "authorship_tag": "ABX9TyNd+CdBI0wW4HqcUdVZYAXk",
   "include_colab_link": true,
   "provenance": []
  },
  "kernelspec": {
   "display_name": "Python 3 (ipykernel)",
   "language": "python",
   "name": "python3"
  },
  "language_info": {
   "codemirror_mode": {
    "name": "ipython",
    "version": 3
   },
   "file_extension": ".py",
   "mimetype": "text/x-python",
   "name": "python",
   "nbconvert_exporter": "python",
   "pygments_lexer": "ipython3",
   "version": "3.11.5"
  }
 },
 "nbformat": 4,
 "nbformat_minor": 1
}
