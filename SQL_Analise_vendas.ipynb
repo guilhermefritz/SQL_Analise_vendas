{
 "cells": [
  {
   "cell_type": "markdown",
   "metadata": {
    "colab_type": "text",
    "id": "view-in-github"
   },
   "source": [
    "<a href=\"https://colab.research.google.com/github/guilhermefritz/SQL_Projects/blob/main/SQL_project.ipynb\" target=\"_parent\"><img src=\"https://colab.research.google.com/assets/colab-badge.svg\" alt=\"Open In Colab\"/></a>"
   ]
  },
  {
   "cell_type": "markdown",
   "metadata": {
    "id": "I0phtszeAID_"
   },
   "source": [
    "### Feito por Guilherme Fritz"
   ]
  },
  {
   "cell_type": "markdown",
   "metadata": {
    "id": "sy8jgM-brrsC"
   },
   "source": [
    "## Usando o DuckDB para executar consultas  SQL dentro de um ambiente Python."
   ]
  },
  {
   "cell_type": "markdown",
   "metadata": {
    "id": "7AmjDFeHsz5O"
   },
   "source": [
    "DuckDB-É um sistema de gerenciamento de base de dados SQL que roda no mesmo processo em que o aplicativo que utiliza o banco de dados,o que significa que não se faz necessária a criação de uma rede de comunicação entre os dois, acelerando o acesso aos dados armazenados"
   ]
  },
  {
   "cell_type": "markdown",
   "metadata": {
    "id": "lP1J0AFNrWu4"
   },
   "source": [
    "Dataset de vendas  disponivel  em https://www.kaggle.com/datasets/rohitsahoo/sales-forecasting"
   ]
  },
  {
   "cell_type": "markdown",
   "metadata": {},
   "source": [
    "### A partir de uma análise minuciosa dos dados históricos de vendas no período de 2016 a 2018, obtive uma valiosa fonte de conhecimento que fundamenta o projeto  \n",
    "\n",
    "### A riqueza dessas informações não apenas ilumina os eventos passados, mas também serve como uma bússola para as decisões futuras. . "
   ]
  },
  {
   "cell_type": "markdown",
   "metadata": {},
   "source": [
    "-------------------------------------------------------------------------------------------------------------------------------------------------------------------------------"
   ]
  },
  {
   "cell_type": "markdown",
   "metadata": {
    "id": "zBKC0FJSbITk"
   },
   "source": [
    "# **Perguntas a serem respondidas**:\n",
    "\n",
    "\n",
    "  *  #### 1-Qual foi a quantidade de pedidos no total?\n",
    "  \n",
    "  *  #### 2-Qual foi o valor máximo de um pedido  e o valor mínimo de um pedido entre todos os pedidos?\n",
    "  \n",
    "  * ####  3-De 2016 a 2018,quais foram os produtos TOP1(Lideraram o ranking) em valor de vendas de cada ano?\n",
    "  \n",
    "  * ####  4-Qual foi o semestre dos anos de 2017 e 2018 que obteve o maior faturamento ? Nesse determinado semestre quais foram os TOP2 produtos em vendas?\n",
    "  \n",
    "  * ####  5-Qual foram os estados que tiveram faturamento >70.000? Traga a media de valor gasto por cada cidade \n",
    "  \n",
    "  * ####  6-Qual foi o Estado  campeão de faturamento ao decorrer de todos os anos ? Quantos clientes distintos esse estado teve?\n",
    "  \n",
    "  * ####  7-Desse  determinado estado,quais foram as TOP3 cidades campeãs de vendas ?\n",
    "  \n",
    "  * ####  8-Qual foi a media de valor de venda agrupando por estado e cidade?\n",
    "  \n",
    "  * ####  9-As categorias de produtos sao divididas entre quais tipos ?\n",
    "  \n",
    "  * ####  10-Quanto cada categoria vendeu nos  TOP3 estados? \n",
    "  \n",
    "  * ####  11-Supondo que (Tecnologia) é a categoria dominante em valor de  vendas, teve algum ano em que outra categoria a sobressaiu?\n",
    "  \n",
    "  * ####  12-Da categoria de (Tecnologia) ,qual das sub-categorias se sobressaiu das demais?Dessa categoria quantos clientes eram distintos?\n",
    "  \n",
    "  * ####  13-Qual foi o tipo vencedor do ship mode(modo de envio) mais preferido pelos clientes\n",
    "  \n",
    "  * ####  14 -Qual foi o produto  que mais faturou no decorrer dos anos?\n",
    "  \n",
    "  * ####  15-Veja a lista de compradores desse produto e o respectivo codigo postal de cada um .\n",
    "  \n",
    "  * ####  16-Teve algum ano em que no mês de Novembro a quantidade de faturamento  foi superior que o mês de Dezembro?\n",
    "  \n",
    "  * ####  17-Quais foram os TOP3 clientes que mais gastaram  na loja  ?\n",
    "\n",
    "\n",
    "\n",
    "\n"
   ]
  },
  {
   "cell_type": "code",
   "execution_count": 1,
   "metadata": {
    "colab": {
     "base_uri": "https://localhost:8080/"
    },
    "id": "c-kD7O6kbCFM",
    "outputId": "bafe0a00-e784-4e8e-c5dc-e0729658924c"
   },
   "outputs": [
    {
     "name": "stdout",
     "output_type": "stream",
     "text": [
      "Requirement already satisfied: duckdb in d:\\aplicativos\\anaconda\\7g\\lib\\site-packages (0.9.2)\n",
      "Note: you may need to restart the kernel to use updated packages.\n"
     ]
    }
   ],
   "source": [
    " pip install duckdb\n"
   ]
  },
  {
   "cell_type": "code",
   "execution_count": 3,
   "metadata": {
    "id": "qNgNRoAuFZI1"
   },
   "outputs": [],
   "source": [
    "import pandas as pd"
   ]
  },
  {
   "cell_type": "code",
   "execution_count": 18,
   "metadata": {
    "id": "Ld3c8K15FcBD"
   },
   "outputs": [],
   "source": [
    "df=pd.read_csv(\"D:datasets/Sales_forecast/train.csv\")\n",
    "#Lendo o arquivo que contém o dataset"
   ]
  },
  {
   "cell_type": "code",
   "execution_count": 19,
   "metadata": {
    "colab": {
     "base_uri": "https://localhost:8080/"
    },
    "id": "uCKVoyyjQvPM",
    "outputId": "2f6c4509-ab65-4329-f933-abcdd5921f7a"
   },
   "outputs": [
    {
     "name": "stdout",
     "output_type": "stream",
     "text": [
      "<class 'pandas.core.frame.DataFrame'>\n",
      "RangeIndex: 9800 entries, 0 to 9799\n",
      "Data columns (total 19 columns):\n",
      " #   Column         Non-Null Count  Dtype  \n",
      "---  ------         --------------  -----  \n",
      " 0   Unnamed: 0     9800 non-null   int64  \n",
      " 1   Row ID         9800 non-null   int64  \n",
      " 2   Order ID       9800 non-null   object \n",
      " 3   Order Date     9800 non-null   object \n",
      " 4   Ship Date      9800 non-null   object \n",
      " 5   Ship Mode      9800 non-null   object \n",
      " 6   Customer ID    9800 non-null   object \n",
      " 7   Customer Name  9800 non-null   object \n",
      " 8   Segment        9800 non-null   object \n",
      " 9   Country        9800 non-null   object \n",
      " 10  City           9800 non-null   object \n",
      " 11  State          9800 non-null   object \n",
      " 12  Postal Code    9789 non-null   float64\n",
      " 13  Region         9800 non-null   object \n",
      " 14  Product ID     9800 non-null   object \n",
      " 15  Category       9800 non-null   object \n",
      " 16  Sub-Category   9800 non-null   object \n",
      " 17  Product Name   9800 non-null   object \n",
      " 18  Sales          9800 non-null   float64\n",
      "dtypes: float64(2), int64(2), object(15)\n",
      "memory usage: 1.4+ MB\n"
     ]
    }
   ],
   "source": [
    "df.info()\n",
    "#Informaçoes do dataset"
   ]
  },
  {
   "cell_type": "code",
   "execution_count": 20,
   "metadata": {
    "colab": {
     "base_uri": "https://localhost:8080/",
     "height": 556
    },
    "id": "ZTGyMom9DDQE",
    "outputId": "91164f6d-6c2a-49b7-8b2d-46471fe2a054"
   },
   "outputs": [
    {
     "data": {
      "text/html": [
       "<div>\n",
       "<style scoped>\n",
       "    .dataframe tbody tr th:only-of-type {\n",
       "        vertical-align: middle;\n",
       "    }\n",
       "\n",
       "    .dataframe tbody tr th {\n",
       "        vertical-align: top;\n",
       "    }\n",
       "\n",
       "    .dataframe thead th {\n",
       "        text-align: right;\n",
       "    }\n",
       "</style>\n",
       "<table border=\"1\" class=\"dataframe\">\n",
       "  <thead>\n",
       "    <tr style=\"text-align: right;\">\n",
       "      <th></th>\n",
       "      <th>Unnamed: 0</th>\n",
       "      <th>Row ID</th>\n",
       "      <th>Order ID</th>\n",
       "      <th>Order Date</th>\n",
       "      <th>Ship Date</th>\n",
       "      <th>Ship Mode</th>\n",
       "      <th>Customer ID</th>\n",
       "      <th>Customer Name</th>\n",
       "      <th>Segment</th>\n",
       "      <th>Country</th>\n",
       "      <th>City</th>\n",
       "      <th>State</th>\n",
       "      <th>Postal Code</th>\n",
       "      <th>Region</th>\n",
       "      <th>Product ID</th>\n",
       "      <th>Category</th>\n",
       "      <th>Sub-Category</th>\n",
       "      <th>Product Name</th>\n",
       "      <th>Sales</th>\n",
       "    </tr>\n",
       "  </thead>\n",
       "  <tbody>\n",
       "    <tr>\n",
       "      <th>0</th>\n",
       "      <td>0</td>\n",
       "      <td>1</td>\n",
       "      <td>CA-2017-152156</td>\n",
       "      <td>2017-11-08</td>\n",
       "      <td>11/11/2017</td>\n",
       "      <td>Second Class</td>\n",
       "      <td>CG-12520</td>\n",
       "      <td>Claire Gute</td>\n",
       "      <td>Consumer</td>\n",
       "      <td>United States</td>\n",
       "      <td>Henderson</td>\n",
       "      <td>Kentucky</td>\n",
       "      <td>42420.0</td>\n",
       "      <td>South</td>\n",
       "      <td>FUR-BO-10001798</td>\n",
       "      <td>Furniture</td>\n",
       "      <td>Bookcases</td>\n",
       "      <td>Bush Somerset Collection Bookcase</td>\n",
       "      <td>261.9600</td>\n",
       "    </tr>\n",
       "    <tr>\n",
       "      <th>1</th>\n",
       "      <td>1</td>\n",
       "      <td>2</td>\n",
       "      <td>CA-2017-152156</td>\n",
       "      <td>2017-11-08</td>\n",
       "      <td>11/11/2017</td>\n",
       "      <td>Second Class</td>\n",
       "      <td>CG-12520</td>\n",
       "      <td>Claire Gute</td>\n",
       "      <td>Consumer</td>\n",
       "      <td>United States</td>\n",
       "      <td>Henderson</td>\n",
       "      <td>Kentucky</td>\n",
       "      <td>42420.0</td>\n",
       "      <td>South</td>\n",
       "      <td>FUR-CH-10000454</td>\n",
       "      <td>Furniture</td>\n",
       "      <td>Chairs</td>\n",
       "      <td>Hon Deluxe Fabric Upholstered Stacking Chairs,...</td>\n",
       "      <td>731.9400</td>\n",
       "    </tr>\n",
       "    <tr>\n",
       "      <th>2</th>\n",
       "      <td>2</td>\n",
       "      <td>3</td>\n",
       "      <td>CA-2017-138688</td>\n",
       "      <td>2017-06-12</td>\n",
       "      <td>16/06/2017</td>\n",
       "      <td>Second Class</td>\n",
       "      <td>DV-13045</td>\n",
       "      <td>Darrin Van Huff</td>\n",
       "      <td>Corporate</td>\n",
       "      <td>United States</td>\n",
       "      <td>Los Angeles</td>\n",
       "      <td>California</td>\n",
       "      <td>90036.0</td>\n",
       "      <td>West</td>\n",
       "      <td>OFF-LA-10000240</td>\n",
       "      <td>Office Supplies</td>\n",
       "      <td>Labels</td>\n",
       "      <td>Self-Adhesive Address Labels for Typewriters b...</td>\n",
       "      <td>14.6200</td>\n",
       "    </tr>\n",
       "    <tr>\n",
       "      <th>3</th>\n",
       "      <td>3</td>\n",
       "      <td>4</td>\n",
       "      <td>US-2016-108966</td>\n",
       "      <td>2016-10-11</td>\n",
       "      <td>18/10/2016</td>\n",
       "      <td>Standard Class</td>\n",
       "      <td>SO-20335</td>\n",
       "      <td>Sean O'Donnell</td>\n",
       "      <td>Consumer</td>\n",
       "      <td>United States</td>\n",
       "      <td>Fort Lauderdale</td>\n",
       "      <td>Florida</td>\n",
       "      <td>33311.0</td>\n",
       "      <td>South</td>\n",
       "      <td>FUR-TA-10000577</td>\n",
       "      <td>Furniture</td>\n",
       "      <td>Tables</td>\n",
       "      <td>Bretford CR4500 Series Slim Rectangular Table</td>\n",
       "      <td>957.5775</td>\n",
       "    </tr>\n",
       "    <tr>\n",
       "      <th>4</th>\n",
       "      <td>4</td>\n",
       "      <td>5</td>\n",
       "      <td>US-2016-108966</td>\n",
       "      <td>2016-10-11</td>\n",
       "      <td>18/10/2016</td>\n",
       "      <td>Standard Class</td>\n",
       "      <td>SO-20335</td>\n",
       "      <td>Sean O'Donnell</td>\n",
       "      <td>Consumer</td>\n",
       "      <td>United States</td>\n",
       "      <td>Fort Lauderdale</td>\n",
       "      <td>Florida</td>\n",
       "      <td>33311.0</td>\n",
       "      <td>South</td>\n",
       "      <td>OFF-ST-10000760</td>\n",
       "      <td>Office Supplies</td>\n",
       "      <td>Storage</td>\n",
       "      <td>Eldon Fold 'N Roll Cart System</td>\n",
       "      <td>22.3680</td>\n",
       "    </tr>\n",
       "  </tbody>\n",
       "</table>\n",
       "</div>"
      ],
      "text/plain": [
       "   Unnamed: 0  Row ID        Order ID  Order Date   Ship Date       Ship Mode  \\\n",
       "0           0       1  CA-2017-152156  2017-11-08  11/11/2017    Second Class   \n",
       "1           1       2  CA-2017-152156  2017-11-08  11/11/2017    Second Class   \n",
       "2           2       3  CA-2017-138688  2017-06-12  16/06/2017    Second Class   \n",
       "3           3       4  US-2016-108966  2016-10-11  18/10/2016  Standard Class   \n",
       "4           4       5  US-2016-108966  2016-10-11  18/10/2016  Standard Class   \n",
       "\n",
       "  Customer ID    Customer Name    Segment        Country             City  \\\n",
       "0    CG-12520      Claire Gute   Consumer  United States        Henderson   \n",
       "1    CG-12520      Claire Gute   Consumer  United States        Henderson   \n",
       "2    DV-13045  Darrin Van Huff  Corporate  United States      Los Angeles   \n",
       "3    SO-20335   Sean O'Donnell   Consumer  United States  Fort Lauderdale   \n",
       "4    SO-20335   Sean O'Donnell   Consumer  United States  Fort Lauderdale   \n",
       "\n",
       "        State  Postal Code Region       Product ID         Category  \\\n",
       "0    Kentucky      42420.0  South  FUR-BO-10001798        Furniture   \n",
       "1    Kentucky      42420.0  South  FUR-CH-10000454        Furniture   \n",
       "2  California      90036.0   West  OFF-LA-10000240  Office Supplies   \n",
       "3     Florida      33311.0  South  FUR-TA-10000577        Furniture   \n",
       "4     Florida      33311.0  South  OFF-ST-10000760  Office Supplies   \n",
       "\n",
       "  Sub-Category                                       Product Name     Sales  \n",
       "0    Bookcases                  Bush Somerset Collection Bookcase  261.9600  \n",
       "1       Chairs  Hon Deluxe Fabric Upholstered Stacking Chairs,...  731.9400  \n",
       "2       Labels  Self-Adhesive Address Labels for Typewriters b...   14.6200  \n",
       "3       Tables      Bretford CR4500 Series Slim Rectangular Table  957.5775  \n",
       "4      Storage                     Eldon Fold 'N Roll Cart System   22.3680  "
      ]
     },
     "execution_count": 20,
     "metadata": {},
     "output_type": "execute_result"
    }
   ],
   "source": [
    "df.head()\n",
    "#Visualizando o dataset"
   ]
  },
  {
   "cell_type": "code",
   "execution_count": 21,
   "metadata": {
    "id": "5ZuxtDHHFs5z"
   },
   "outputs": [],
   "source": [
    "import duckdb"
   ]
  },
  {
   "cell_type": "markdown",
   "metadata": {},
   "source": [
    "### Para extrair a data no Tipo 'Date' o Duck db requer que esteja nesse formato (YYYY-MM-DD) como o formato original do dataset estava (DD/MM/YYYY) foi necessário alterar."
   ]
  },
  {
   "cell_type": "code",
   "execution_count": null,
   "metadata": {},
   "outputs": [],
   "source": [
    "df['Order Date'] = pd.to_datetime(df['Order Date'], format='%d/%m/%Y')\n",
    "# Salve os dados atualizados em um novo arquivo CSV\n",
    "df.to_csv(\"D:datasets/Sales_forecast/train_att.csv\")"
   ]
  },
  {
   "cell_type": "code",
   "execution_count": null,
   "metadata": {},
   "outputs": [],
   "source": [
    "df=pd.read_csv(\"D:datasets/Sales_forecast/train_att.csv\")"
   ]
  },
  {
   "cell_type": "code",
   "execution_count": 22,
   "metadata": {
    "colab": {
     "base_uri": "https://localhost:8080/"
    },
    "id": "9wTDPyi4Fyd6",
    "outputId": "51958163-3381-41e7-d073-40d53dfd6d7c"
   },
   "outputs": [
    {
     "data": {
      "text/plain": [
       "<duckdb.duckdb.DuckDBPyConnection at 0x2f849b791b0>"
      ]
     },
     "execution_count": 22,
     "metadata": {},
     "output_type": "execute_result"
    }
   ],
   "source": [
    "#Estabelecendo conexão com o duck db\n",
    "# 'clientes' agora refere-se a 'df'(dataset)\n",
    "conexao = duckdb.connect(database=\":memory:\", read_only=False)\n",
    "conexao.register(\"vendas\", df)\n"
   ]
  },
  {
   "cell_type": "markdown",
   "metadata": {
    "id": "6yoBdR-D9wDg"
   },
   "source": [
    "## **1º pergunta:**"
   ]
  },
  {
   "cell_type": "code",
   "execution_count": 28,
   "metadata": {
    "colab": {
     "base_uri": "https://localhost:8080/"
    },
    "id": "GFxftDqnoaiA",
    "outputId": "ef7711f6-1ef7-4336-daad-b3a882fe36e1"
   },
   "outputs": [
    {
     "name": "stdout",
     "output_type": "stream",
     "text": [
      "   contagem_pedidos\n",
      "0              9800\n"
     ]
    }
   ],
   "source": [
    "#contagem \n",
    "query_1='''\n",
    "SELECT COUNT(*) as contagem_pedidos\n",
    "FROM vendas\n",
    ";\n",
    "\n",
    "\n",
    "\n",
    "\n",
    "\n",
    "'''\n",
    "resultado_x = conexao.execute(query_x).df()\n",
    "print(resultado_x)"
   ]
  },
  {
   "cell_type": "markdown",
   "metadata": {},
   "source": [
    "## **2º pergunta:**"
   ]
  },
  {
   "cell_type": "code",
   "execution_count": 120,
   "metadata": {},
   "outputs": [
    {
     "name": "stdout",
     "output_type": "stream",
     "text": [
      "                                        Product Name  maior_valor\n",
      "0  Cisco TelePresence System EX90 Videoconferenci...     22638.48\n"
     ]
    }
   ],
   "source": [
    "#valor maximo \n",
    "query_2 ='''\n",
    "SELECT \"Product Name\",Sales AS maior_valor\n",
    "FROM vendas\n",
    "WHERE Sales = (SELECT MAX(Sales) FROM vendas);\n",
    "\n",
    "    '''\n",
    "\n",
    "    \n",
    "resultado_2 = conexao.execute(query_2).df()\n",
    "print(resultado_2)"
   ]
  },
  {
   "cell_type": "code",
   "execution_count": 121,
   "metadata": {},
   "outputs": [
    {
     "name": "stdout",
     "output_type": "stream",
     "text": [
      "                                        Product Name  menor_valor\n",
      "0  Hoover Replacement Belt for Commercial Guardsm...        0.444\n"
     ]
    }
   ],
   "source": [
    "#valor min\n",
    "query_2_1 ='''\n",
    "\n",
    "SELECT \"Product Name\",Sales AS menor_valor\n",
    "FROM  vendas\n",
    "WHERE \"Sales\" = (SELECT MIN(Sales) FROM vendas);\n",
    "\n",
    "    '''\n",
    "resultado_2_1 = conexao.execute(query_2_1).df()\n",
    "print(resultado_2_1)"
   ]
  },
  {
   "cell_type": "markdown",
   "metadata": {},
   "source": [
    "## **3º pergunta:**"
   ]
  },
  {
   "cell_type": "code",
   "execution_count": null,
   "metadata": {},
   "outputs": [],
   "source": [
    "#produto 2016\n",
    "query3_1 ='''\n",
    "SELECT\n",
    " EXTRACT(YEAR FROM CAST(\"Order Date\" AS DATE)) AS Ano,\n",
    "\"Product Name\" AS ProdutoMaisVendido,\n",
    "SUM(Sales) AS ValorTotal\n",
    "FROM vendas\n",
    "WHERE EXTRACT(YEAR FROM CAST(\"Order Date\" AS DATE)) = 2017\n",
    "GROUP BY Ano, \"Product Name\"\n",
    "ORDER BY Ano DESC, ValorTotal DESC LIMIT 1\n",
    "\n",
    "\n",
    "\n",
    "\n",
    "\n",
    "\n",
    "'''\n",
    "resultado_3 = conexao.execute(query_3).df()\n",
    "print(resultado_3)"
   ]
  },
  {
   "cell_type": "markdown",
   "metadata": {
    "id": "RvtmMqJb3Y2l"
   },
   "source": [
    "2016 : 🥇'Fellowes PB500 Electric...'"
   ]
  },
  {
   "cell_type": "code",
   "execution_count": 80,
   "metadata": {
    "colab": {
     "base_uri": "https://localhost:8080/"
    },
    "id": "7fp_r7lSBASi",
    "outputId": "de9f9d8b-7e6a-47d0-b969-29ce22fdb57e"
   },
   "outputs": [
    {
     "name": "stdout",
     "output_type": "stream",
     "text": [
      "    Ano                     ProdutoMaisVendido  ValorTotal\n",
      "0  2017  Canon imageCLASS 2200 Advanced Copier   25899.926\n"
     ]
    }
   ],
   "source": [
    "#produto 2017\n",
    "query3_2 ='''\n",
    "SELECT\n",
    " EXTRACT(YEAR FROM CAST(\"Order Date\" AS DATE)) AS Ano,\n",
    "\"Product Name\" AS ProdutoMaisVendido,\n",
    "SUM(Sales) AS ValorTotal\n",
    "FROM vendas\n",
    "WHERE EXTRACT(YEAR FROM CAST(\"Order Date\" AS DATE)) = 2017\n",
    "GROUP BY Ano, \"Product Name\"\n",
    "ORDER BY Ano DESC, ValorTotal DESC LIMIT 1\n",
    "\n",
    "\n",
    "\n",
    "\n",
    "\n",
    "\n",
    "'''\n",
    "resultado_3 = conexao.execute(query_3).df()\n",
    "print(resultado_3)"
   ]
  },
  {
   "cell_type": "markdown",
   "metadata": {
    "id": "Len8QlHf3mZ3"
   },
   "source": [
    "2017:*🥇* 'Canon imageCLASS 2200 Advanced **Copier** '"
   ]
  },
  {
   "cell_type": "code",
   "execution_count": 79,
   "metadata": {
    "colab": {
     "base_uri": "https://localhost:8080/"
    },
    "id": "E52EuIFmBdWq",
    "outputId": "a0feb831-04ef-41a4-81b3-bd7fbd41099a"
   },
   "outputs": [
    {
     "name": "stdout",
     "output_type": "stream",
     "text": [
      "    Ano                     ProdutoMaisVendido  ValorTotal\n",
      "0  2018  Canon imageCLASS 2200 Advanced Copier   35699.898\n"
     ]
    }
   ],
   "source": [
    "#produto 2018 \n",
    "query3_3 ='''\n",
    "SELECT\n",
    " EXTRACT(YEAR FROM CAST(\"Order Date\" AS DATE)) AS Ano,\n",
    "\"Product Name\" AS ProdutoMaisVendido,\n",
    "SUM(Sales) AS ValorTotal\n",
    "FROM vendas\n",
    "WHERE EXTRACT(YEAR FROM CAST(\"Order Date\" AS DATE)) = 2018\n",
    "GROUP BY Ano, \"Product Name\"\n",
    "ORDER BY Ano DESC, ValorTotal DESC LIMIT 1\n",
    "\n",
    "\n",
    "\n",
    "\n",
    "\n",
    "\n",
    "'''\n",
    "resultado_3 = conexao.execute(query_3).df()\n",
    "print(resultado_3)"
   ]
  },
  {
   "cell_type": "markdown",
   "metadata": {
    "id": "zcpeP1og3s82"
   },
   "source": [
    "2018:🥇'Canon imageCLASS 2200 Advanced Copier'"
   ]
  },
  {
   "cell_type": "markdown",
   "metadata": {},
   "source": [
    "\n",
    "## **4º pergunta:**"
   ]
  },
  {
   "cell_type": "code",
   "execution_count": 81,
   "metadata": {
    "colab": {
     "base_uri": "https://localhost:8080/"
    },
    "id": "rdeldOd3xXpq",
    "outputId": "1b63185c-d8f5-4607-9873-fc7ad53ca6e9"
   },
   "outputs": [
    {
     "name": "stdout",
     "output_type": "stream",
     "text": [
      "    Ano     Semestre  TotalVendas\n",
      "0  2017  1º Semestre  227747.5260\n",
      "1  2017  2º Semestre  372445.0240\n",
      "2  2018  1º Semestre  249819.5042\n",
      "3  2018  2º Semestre  472232.5150\n"
     ]
    }
   ],
   "source": [
    "#semestre com maior faturamento \n",
    "query_4 ='''\n",
    "SELECT\n",
    "  EXTRACT(YEAR FROM CAST(\"Order Date\" AS DATE)) AS Ano,\n",
    "CASE\n",
    "  WHEN EXTRACT(MONTH FROM CAST(\"Order Date\" AS DATE)) BETWEEN 1 AND 6 THEN '1º Semestre'\n",
    "  WHEN EXTRACT(MONTH FROM CAST(\"Order Date\" AS DATE)) BETWEEN 7 AND 12 THEN '2º Semestre'\n",
    "  END AS Semestre,\n",
    "SUM(Sales) AS TotalVendas\n",
    "FROM vendas\n",
    "WHERE EXTRACT(YEAR FROM CAST(\"Order Date\" AS DATE)) IN (2017, 2018)\n",
    "GROUP BY Ano, Semestre\n",
    "ORDER BY Ano, Semestre;\n",
    "\n",
    "\n",
    "\n",
    "\n",
    "'''\n",
    "resultado_4 = conexao.execute(query_4).df()\n",
    "print(resultado_4)"
   ]
  },
  {
   "cell_type": "markdown",
   "metadata": {
    "id": "RBhXj5cz-lDv"
   },
   "source": [
    "## **5º pergunta:**"
   ]
  },
  {
   "cell_type": "code",
   "execution_count": 123,
   "metadata": {},
   "outputs": [
    {
     "name": "stdout",
     "output_type": "stream",
     "text": [
      "          State  total_vendas\n",
      "0    California   446306.4635\n",
      "1      New York   306361.1470\n",
      "2         Texas   168572.5322\n",
      "3    Washington   135206.8500\n",
      "4  Pennsylvania   116276.6500\n",
      "5       Florida    88436.5320\n",
      "6      Illinois    79236.5170\n",
      "7      Michigan    76136.0740\n",
      "8          Ohio    75130.3500\n",
      "9      Virginia    70636.7200\n"
     ]
    }
   ],
   "source": [
    "#total de vendas agrupando por estado quando o valor total for maior que 70.000\n",
    "query_5 = '''\n",
    "SELECT State,SUM(Sales) AS total_vendas\n",
    "FROM vendas\n",
    "GROUP BY  State\n",
    "HAVING total_vendas > 70000\n",
    "ORDER BY total_vendas DESC\n",
    "LIMIT 10\n",
    "'''\n",
    "\n",
    "resultado_5 = conexao.execute(query_5).df()\n",
    "print(resultado_5)"
   ]
  },
  {
   "cell_type": "markdown",
   "metadata": {
    "id": "AozBLK5Hb2ft"
   },
   "source": [
    "## **6º pergunta:**"
   ]
  },
  {
   "cell_type": "code",
   "execution_count": 110,
   "metadata": {
    "colab": {
     "base_uri": "https://localhost:8080/"
    },
    "id": "Fr-dAWNQK5N0",
    "outputId": "fc511ef3-8955-4783-efd6-bdaf2a408b0a"
   },
   "outputs": [
    {
     "name": "stdout",
     "output_type": "stream",
     "text": [
      "          State   totalsales\n",
      "0    California  446306.4635\n",
      "1      New York  306361.1470\n",
      "2         Texas  168572.5322\n",
      "3    Washington  135206.8500\n",
      "4  Pennsylvania  116276.6500\n",
      "5       Florida   88436.5320\n",
      "6      Illinois   79236.5170\n",
      "7      Michigan   76136.0740\n",
      "8          Ohio   75130.3500\n",
      "9      Virginia   70636.7200\n"
     ]
    }
   ],
   "source": [
    "# Qual foi o estado campeao em total de vendas\n",
    "query6 ='''\n",
    "SELECT State,SUM(Sales) AS totalsales\n",
    "FROM vendas\n",
    "GROUP BY State\n",
    "ORDER BY totalsales DESC LIMIT 10;\n",
    "\n",
    "\n",
    "'''\n",
    "resultado6 = conexao.execute(query6).df()\n",
    "print(resultado6)"
   ]
  },
  {
   "cell_type": "markdown",
   "metadata": {
    "id": "DIRg6kJ01Qa7"
   },
   "source": [
    " Estado da California *🥇*"
   ]
  },
  {
   "cell_type": "code",
   "execution_count": 111,
   "metadata": {},
   "outputs": [
    {
     "name": "stdout",
     "output_type": "stream",
     "text": [
      "        State  total_clientes\n",
      "0  California             570\n"
     ]
    }
   ],
   "source": [
    "#Qual foi a quantidade de clientes distintos na California?\n",
    "query_6_1 = '''\n",
    "SELECT State, COUNT(DISTINCT \"Customer ID\") AS total_clientes\n",
    "FROM vendas\n",
    "WHERE State = 'California'\n",
    "GROUP BY State;\n",
    "'''\n",
    "\n",
    "resultado_6_1 = conexao.execute(query_6_1).df()\n",
    "print(resultado_6_1)\n",
    "\n"
   ]
  },
  {
   "cell_type": "markdown",
   "metadata": {
    "id": "r9VzYiQS-rs3"
   },
   "source": [
    "## **7º pergunta:**"
   ]
  },
  {
   "cell_type": "code",
   "execution_count": 162,
   "metadata": {
    "colab": {
     "base_uri": "https://localhost:8080/"
    },
    "id": "YYJ5eNnSM_wp",
    "outputId": "87b9ba85-f6de-4ed9-a1c2-2d6ea7a1015c"
   },
   "outputs": [
    {
     "name": "stdout",
     "output_type": "stream",
     "text": [
      "            City  totalsales\n",
      "0    Los Angeles  173420.181\n",
      "1  San Francisco  109041.120\n",
      "2      San Diego   47521.029\n"
     ]
    }
   ],
   "source": [
    "#top 3 cidades campeãs do estado\n",
    "query_7 ='''\n",
    "SELECT City,SUM(Sales) AS totalsales\n",
    "FROM vendas\n",
    "WHERE State = 'California'\n",
    "GROUP BY City\n",
    "ORDER BY totalsales DESC\n",
    "LIMIT 3;\n",
    "\n",
    "'''\n",
    "resultado_7 = conexao.execute(query_7).df()\n",
    "print(resultado_7)"
   ]
  },
  {
   "cell_type": "markdown",
   "metadata": {
    "id": "LoqSTBxv-3S3"
   },
   "source": [
    "## **8º pergunta:**"
   ]
  },
  {
   "cell_type": "code",
   "execution_count": 112,
   "metadata": {},
   "outputs": [
    {
     "name": "stdout",
     "output_type": "stream",
     "text": [
      "            State          City  media_pedidos\n",
      "0        New York     Jamestown    2354.395000\n",
      "1         Indiana     Lafayette    1784.046364\n",
      "2         Wyoming      Cheyenne    1603.136000\n",
      "3      Washington    Bellingham    1263.413333\n",
      "4        Missouri  Independence    1208.685000\n",
      "5  North Carolina    Burlington    1152.843818\n",
      "6      California       Burbank    1082.386000\n",
      "7        New York       Buffalo     906.349600\n",
      "8   Massachusetts       Beverly     861.063333\n",
      "9          Nevada        Sparks     853.986667\n"
     ]
    }
   ],
   "source": [
    "#Media de pedidos agrupando por estado e cidade\n",
    "query_8 = '''\n",
    "SELECT State,City,AVG(Sales) AS media_pedidos\n",
    "FROM vendas\n",
    "GROUP BY State,City\n",
    "ORDER BY media_pedidos DESC\n",
    "LIMIT 10;\n",
    "'''\n",
    "\n",
    "resultado_8 = conexao.execute(query_8).df()\n",
    "print(resultado_e)"
   ]
  },
  {
   "cell_type": "markdown",
   "metadata": {},
   "source": [
    "## **9º pergunta:**"
   ]
  },
  {
   "cell_type": "code",
   "execution_count": 113,
   "metadata": {
    "colab": {
     "base_uri": "https://localhost:8080/"
    },
    "id": "6mubfzocNLhT",
    "outputId": "25da2d84-2702-4ff7-8453-149f19f7a59d"
   },
   "outputs": [
    {
     "name": "stdout",
     "output_type": "stream",
     "text": [
      "          Category\n",
      "0  Office Supplies\n",
      "1        Furniture\n",
      "2       Technology\n"
     ]
    }
   ],
   "source": [
    "#categoria produtos\n",
    "query_9 ='''\n",
    "SELECT DISTINCT Category,\n",
    "FROM vendas\n",
    ";\n",
    "\n",
    "'''\n",
    "resultado_9 = conexao.execute(query_9).df()\n",
    "print(resultado_9)"
   ]
  },
  {
   "cell_type": "markdown",
   "metadata": {
    "id": "pZsGPpZZ-8jI"
   },
   "source": [
    "## **10º pergunta:**"
   ]
  },
  {
   "cell_type": "code",
   "execution_count": 124,
   "metadata": {
    "colab": {
     "base_uri": "https://localhost:8080/"
    },
    "id": "a6dUlWj6M4Hz",
    "outputId": "3aa43020-ab7e-4826-fb8e-4c54d9a873d3"
   },
   "outputs": [
    {
     "name": "stdout",
     "output_type": "stream",
     "text": [
      "          Category  TotalSales_California  TotalSales_NY  TotalSales_Texas\n",
      "0       Technology            154684.1800     126902.690        64656.2720\n",
      "1  Office Supplies            139405.7480      86953.892        44282.6160\n",
      "2        Furniture            152216.5355      92504.565        59633.6442\n"
     ]
    }
   ],
   "source": [
    "#Qual categoria vendeu mais entre os top3 estados em valor de vends \n",
    "query_10 ='''\n",
    "SELECT\n",
    "Category,\n",
    " SUM(CASE WHEN State = 'California' THEN Sales ELSE 0 END) AS TotalSales_California,\n",
    " SUM(CASE WHEN State = 'New York' THEN Sales ELSE 0 END) AS TotalSales_NY,\n",
    " SUM(CASE WHEN State = 'Texas' THEN Sales ELSE 0 END) AS TotalSales_Texas\n",
    "FROM vendas\n",
    "WHERE State IN ('California', 'New York','Texas')\n",
    "GROUP BY Category\n",
    "ORDER BY Category DESC ;\n",
    "\n",
    "'''\n",
    "resultado_10 = conexao.execute(query_10).df()\n",
    "print(resultado_10)"
   ]
  },
  {
   "cell_type": "markdown",
   "metadata": {
    "id": "6HhxxQ_W1duv"
   },
   "source": [
    "Categoria de Tecnologia 🥇"
   ]
  },
  {
   "cell_type": "markdown",
   "metadata": {
    "id": "mrZS6E8r_JGm"
   },
   "source": [
    "## **11º pergunta:**"
   ]
  },
  {
   "cell_type": "code",
   "execution_count": 88,
   "metadata": {
    "colab": {
     "base_uri": "https://localhost:8080/"
    },
    "id": "jdXtRXHINSUK",
    "outputId": "3eb7798d-10a7-43bb-b6bc-a9caedba8481"
   },
   "outputs": [
    {
     "name": "stdout",
     "output_type": "stream",
     "text": [
      "  CategoriaMaisVendida  TotalVendas\n",
      "0            Furniture  164053.8674\n",
      "1           Technology  162257.7310\n",
      "2      Office Supplies  133124.4070\n"
     ]
    }
   ],
   "source": [
    "#mudança de TOP categoria\n",
    "query_11='''\n",
    "\n",
    "\n",
    "SELECT \"Category\" AS CategoriaMaisVendida, SUM(Sales) AS TotalVendas\n",
    "FROM vendas\n",
    "WHERE EXTRACT(YEAR FROM CAST(\"Order Date\" AS DATE)) = 2016\n",
    "GROUP BY \"Category\"\n",
    "ORDER BY TotalVendas DESC\n",
    "LIMIT 3;\n",
    "\n",
    "\n",
    "\n",
    "\n",
    "'''\n",
    "resultado_11 = conexao.execute(query_11).df()\n",
    "print(resultado_11)"
   ]
  },
  {
   "cell_type": "markdown",
   "metadata": {
    "id": "bS5eltwb2Mid"
   },
   "source": [
    "Após analisar cada ano ,descubro que o unico ano em que a categoria de 'Tecnologia' não foi a campeã em valor de vendas foi em 2016 em que a categoria 'Furniture\" foi a vencedora!"
   ]
  },
  {
   "cell_type": "markdown",
   "metadata": {
    "id": "EG1QaK2k_bBS"
   },
   "source": [
    "## **12 pergunta:**"
   ]
  },
  {
   "cell_type": "code",
   "execution_count": 90,
   "metadata": {
    "colab": {
     "base_uri": "https://localhost:8080/"
    },
    "id": "CNUJU2LIUws6",
    "outputId": "de010177-b1b1-457d-d153-68da47363896"
   },
   "outputs": [
    {
     "name": "stdout",
     "output_type": "stream",
     "text": [
      "  Sub-Category  TotalVendas\n",
      "0       Phones   327782.448\n"
     ]
    }
   ],
   "source": [
    "#sub_categoria\n",
    "query_12='''\n",
    "SELECT \"Sub-Category\" , SUM(Sales) AS TotalVendas\n",
    "FROM vendas\n",
    "WHERE Category = 'Technology'\n",
    "GROUP BY \"Sub-Category\"\n",
    "ORDER BY TotalVendas DESC\n",
    "LIMIT 1;\n",
    "'''\n",
    "resultado_12 = conexao.execute(query_12).df()\n",
    "print(resultado_12)"
   ]
  },
  {
   "cell_type": "markdown",
   "metadata": {
    "id": "Obxqge8W2pDv"
   },
   "source": [
    "Sub Categoria 'Phones' 🥇"
   ]
  },
  {
   "cell_type": "code",
   "execution_count": 75,
   "metadata": {},
   "outputs": [
    {
     "name": "stdout",
     "output_type": "stream",
     "text": [
      "  Sub-Category  total_clientes\n",
      "0       Phones             509\n"
     ]
    }
   ],
   "source": [
    "#clientes distintos que compraram 'phones'\n",
    "query_12_1 = '''\n",
    "SELECT \"Sub-Category\",COUNT(DISTINCT \"Customer ID\") AS total_clientes\n",
    "FROM vendas\n",
    "WHERE Category = 'Technology' AND \"Sub-Category\" = 'Phones'\n",
    "GROUP BY \"Sub-Category\";\n",
    "'''\n",
    "\n",
    "resultado_12_1 = conexao.execute(query_12_1).df()\n",
    "print(resultado_12_1)"
   ]
  },
  {
   "cell_type": "markdown",
   "metadata": {
    "id": "QXpuo3v0_iWG"
   },
   "source": [
    "## **13º pergunta:**"
   ]
  },
  {
   "cell_type": "code",
   "execution_count": 91,
   "metadata": {
    "colab": {
     "base_uri": "https://localhost:8080/"
    },
    "id": "MGzBFTCPK59a",
    "outputId": "48bf7b9c-79b5-47c2-b332-f1bddbfb25fc"
   },
   "outputs": [
    {
     "name": "stdout",
     "output_type": "stream",
     "text": [
      "        Ship Mode  Quantidade\n",
      "0  Standard Class        5859\n",
      "1    Second Class        1902\n"
     ]
    }
   ],
   "source": [
    "#tipo de metodo de  entrega vencedor\n",
    "query_13 ='''\n",
    "SELECT \"Ship Mode\", COUNT(*) AS Quantidade\n",
    "FROM vendas\n",
    "WHERE \"Ship Mode\" IN ('Standard Class', 'Second Class')\n",
    "GROUP BY \"Ship Mode\"\n",
    "ORDER BY Quantidade DESC;\n",
    "\n",
    "'''\n",
    "resultado_13 = conexao.execute(query_13).df()\n",
    "print(resultado_13)"
   ]
  },
  {
   "cell_type": "markdown",
   "metadata": {
    "id": "IjuARsAi_wgZ"
   },
   "source": [
    "## **14º pergunta:**"
   ]
  },
  {
   "cell_type": "code",
   "execution_count": 92,
   "metadata": {
    "colab": {
     "base_uri": "https://localhost:8080/"
    },
    "id": "f5aEMM2u559a",
    "outputId": "2b072f14-3092-45b4-d926-631d47d3fdfa"
   },
   "outputs": [
    {
     "name": "stdout",
     "output_type": "stream",
     "text": [
      "                          ProdutoCampeão  TotalVendas\n",
      "0  Canon imageCLASS 2200 Advanced Copier    61599.824\n"
     ]
    }
   ],
   "source": [
    "#produto que mais faturou em todos os anos\n",
    "query_14='''\n",
    "SELECT \"Product Name\" AS ProdutoCampeão,SUM(Sales) AS TotalVendas\n",
    "FROM vendas\n",
    "GROUP BY \"Product Name\"\n",
    "ORDER BY TotalVendas DESC\n",
    "LIMIT 1;\n",
    "\n",
    "'''\n",
    "\n",
    "resultado_14 = conexao.execute(query_14).df()\n",
    "print(resultado_14)"
   ]
  },
  {
   "cell_type": "markdown",
   "metadata": {
    "id": "p4f9KkVv6V5V"
   },
   "source": [
    "Produto que mais vendeu em valor foi 🥇: 'Canon imageCLASS 2200 Advanced Copier'\n",
    "\n",
    ">\n",
    "\n"
   ]
  },
  {
   "cell_type": "markdown",
   "metadata": {
    "id": "TzG_irH4_0oJ"
   },
   "source": [
    "## **15º pergunta:**"
   ]
  },
  {
   "cell_type": "markdown",
   "metadata": {
    "id": "4WymAj9c6naQ"
   },
   "source": [
    "Podemos supor que o motivo de saber o nome e o codigo postal da pessoa pode ser para enviar um voucher de desconto para essas pessoas adquirirem outro produto da loja."
   ]
  },
  {
   "cell_type": "code",
   "execution_count": 93,
   "metadata": {
    "colab": {
     "base_uri": "https://localhost:8080/"
    },
    "id": "no0TtMw6JlYs",
    "outputId": "920bd16e-ce94-465c-8ead-4ff5fbc8c286"
   },
   "outputs": [
    {
     "name": "stdout",
     "output_type": "stream",
     "text": [
      "        Customer Name  Postal Code  sum(Sales)\n",
      "0        Hunter Lopez      19711.0   10499.970\n",
      "1  Christopher Conant      19120.0    8399.976\n",
      "2        Tamara Chand      47905.0   17499.950\n",
      "3        Raymond Buch      98115.0   13999.960\n",
      "4        Tom Ashbrook      10024.0   11199.968\n"
     ]
    }
   ],
   "source": [
    "\n",
    "#cod postal\n",
    "query_15='''\n",
    "\n",
    "SELECT \"Customer Name\",\"Postal Code\", SUM(Sales)\n",
    "FROM vendas\n",
    "WHERE \"Product Name\" = 'Canon imageCLASS 2200 Advanced Copier'\n",
    "GROUP BY \"Customer Name\",\"Postal Code\"\n",
    ";\n",
    "'''\n",
    "resultado_15= conexao.execute(query_15).df()\n",
    "print(resultado_15)"
   ]
  },
  {
   "cell_type": "markdown",
   "metadata": {
    "id": "gLoy4I2V_8CE"
   },
   "source": [
    "## **16º pergunta:**"
   ]
  },
  {
   "cell_type": "markdown",
   "metadata": {
    "id": "efQO2fv87Q7n"
   },
   "source": [
    "O motivo de se querer comparar se houve algum  mês de novembro de um dos anos  em que o faturamento foi maior que o mês de dezembro pode ser para comparação  de vendas,já que em dezembro as lojas costumam ter (evento de natal)  onde se tem promoções em determinados  produtos da loja."
   ]
  },
  {
   "cell_type": "markdown",
   "metadata": {
    "id": "lwYpapQv7wyF"
   },
   "source": [
    "Após uma analise percebo que apenas em 2016 teve mais vendas no mês 11 que no mês 12, onde podemos supor  que  a partir de 2017 a loja veio com propostas de ofertas imperdiveis para o natal o que fez  subir o faturamento comparado com o mês anterior."
   ]
  },
  {
   "cell_type": "code",
   "execution_count": 94,
   "metadata": {
    "colab": {
     "base_uri": "https://localhost:8080/"
    },
    "id": "UN0blPTSOfeL",
    "outputId": "a13becdc-f2fd-46bb-c05d-5a33278ed9de"
   },
   "outputs": [
    {
     "name": "stdout",
     "output_type": "stream",
     "text": [
      "    Ano  Mes  TotalVendas\n",
      "0  2016   12   74543.6012\n"
     ]
    }
   ],
   "source": [
    "#mes\n",
    "query_16 ='''\n",
    "SELECT\n",
    " EXTRACT(YEAR FROM CAST(\"Order Date\" AS DATE)) AS Ano,\n",
    " EXTRACT(MONTH FROM CAST(\"Order Date\" AS DATE)) AS Mes,\n",
    " SUM(Sales) AS TotalVendas\n",
    "FROM vendas\n",
    "WHERE EXTRACT(MONTH FROM CAST(\"Order Date\" AS DATE)) =12\n",
    "AND EXTRACT(YEAR FROM CAST(\"Order Date\" AS DATE)) = 2016\n",
    "GROUP BY Ano, Mes\n",
    "ORDER BY Ano DESC, Mes DESC;\n",
    "\n",
    "\n",
    "\n",
    "'''\n",
    "resultado_16 = conexao.execute(query_16).df()\n",
    "print(resultado_16)"
   ]
  },
  {
   "cell_type": "markdown",
   "metadata": {
    "id": "wGHBHJ9e_-0W"
   },
   "source": [
    "## **17º pergunta:**"
   ]
  },
  {
   "cell_type": "markdown",
   "metadata": {
    "id": "uwFFIx0j7upA"
   },
   "source": [
    " Podemos supor que os TOP 3 clientes que mais consumiram na loja vão receber em sua casa uma bicicleta."
   ]
  },
  {
   "cell_type": "code",
   "execution_count": 114,
   "metadata": {
    "colab": {
     "base_uri": "https://localhost:8080/"
    },
    "id": "I6vX9SWIY1hM",
    "outputId": "55f520a4-bc1c-4a72-ed3d-0ac418b80358"
   },
   "outputs": [
    {
     "name": "stdout",
     "output_type": "stream",
     "text": [
      "  Customer ID Customer Name  Postal Code  TotalGasto\n",
      "0    SM-20320   Sean Miller      32216.0   23661.228\n",
      "1    TC-20980  Tamara Chand      47905.0   18336.740\n",
      "2    RB-19360  Raymond Buch      98115.0   14052.480\n"
     ]
    }
   ],
   "source": [
    "#presente\n",
    "query_17='''\n",
    "SELECT \"Customer ID\", \"Customer Name\",\"Postal Code\", SUM(Sales) AS TotalGasto\n",
    "FROM vendas\n",
    "GROUP BY \"Customer ID\", \"Customer Name\", \"Postal Code\"\n",
    "ORDER BY TotalGasto DESC\n",
    "LIMIT 3;\n",
    "'''\n",
    "resultado_17 = conexao.execute(query_17).df()\n",
    "print(resultado_17)"
   ]
  },
  {
   "cell_type": "markdown",
   "metadata": {},
   "source": [
    "# FIM"
   ]
  }
 ],
 "metadata": {
  "colab": {
   "authorship_tag": "ABX9TyMO/BAKlg9TTTKNASJlAJp2",
   "include_colab_link": true,
   "provenance": []
  },
  "kernelspec": {
   "display_name": "Python 3 (ipykernel)",
   "language": "python",
   "name": "python3"
  },
  "language_info": {
   "codemirror_mode": {
    "name": "ipython",
    "version": 3
   },
   "file_extension": ".py",
   "mimetype": "text/x-python",
   "name": "python",
   "nbconvert_exporter": "python",
   "pygments_lexer": "ipython3",
   "version": "3.11.5"
  }
 },
 "nbformat": 4,
 "nbformat_minor": 1
}
